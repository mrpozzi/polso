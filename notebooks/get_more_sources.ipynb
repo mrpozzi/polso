{
 "cells": [
  {
   "cell_type": "code",
   "execution_count": null,
   "metadata": {
    "collapsed": true,
    "jupyter": {
     "outputs_hidden": true
    }
   },
   "outputs": [],
   "source": []
  },
  {
   "cell_type": "code",
   "execution_count": null,
   "metadata": {
    "collapsed": true,
    "jupyter": {
     "outputs_hidden": true
    }
   },
   "outputs": [],
   "source": [
    "http://www.igc.int/en/Default.aspx\n",
    "\n",
    "https://www.usda.gov/oce/commodity/wasde/index.html\n",
    "https://www.fas.usda.gov/commodities/grain-and-feed\n",
    "https://www.fas.usda.gov/data/grain-world-markets-and-trade\n",
    "https://www.fas.usda.gov/commodities/soybeans\n",
    " "
   ]
  }
 ],
 "metadata": {
  "kernelspec": {
   "display_name": "Python 3",
   "language": "python",
   "name": "python3"
  },
  "language_info": {
   "codemirror_mode": {
    "name": "ipython",
    "version": 3
   },
   "file_extension": ".py",
   "mimetype": "text/x-python",
   "name": "python",
   "nbconvert_exporter": "python",
   "pygments_lexer": "ipython3",
   "version": "3.8.8"
  }
 },
 "nbformat": 4,
 "nbformat_minor": 4
}
