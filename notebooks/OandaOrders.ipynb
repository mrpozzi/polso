{
 "cells": [
  {
   "cell_type": "code",
   "execution_count": 1,
   "id": "8ffba7c7-e397-4adf-a817-b1f1523e1844",
   "metadata": {},
   "outputs": [],
   "source": [
    "%matplotlib inline\n",
    "%load_ext autoreload\n",
    "%autoreload 2\n",
    "\n",
    "import pandas as pd\n",
    "import numpy as np\n",
    "from datetime import datetime, timezone\n",
    "import time\n",
    "\n",
    "import matplotlib.pyplot as plt\n",
    "plt.style.use('fivethirtyeight')\n",
    "import json\n",
    "\n",
    "from binance.client import Client\n",
    "\n",
    "from datetime import datetime, timezone, timedelta"
   ]
  },
  {
   "cell_type": "markdown",
   "id": "c1bbbe1b-29d6-453d-af12-7389a1dce7dd",
   "metadata": {},
   "source": [
    "Profit (GBP) = Pips x Exposure / GBPUSD = 0.002 x 2,000 / 1.5185 = £2.63\n",
    "\n"
   ]
  },
  {
   "cell_type": "code",
   "execution_count": 2,
   "id": "5c54293a-feac-4000-bf51-9f95e25ba064",
   "metadata": {},
   "outputs": [],
   "source": [
    "from oandapyV20 import API\n",
    "import oandapyV20.endpoints.instruments as instruments\n",
    "\n",
    "import json\n",
    "\n",
    "from oandapyV20.contrib.requests import MarketOrderRequest, LimitOrderRequest\n",
    "from oandapyV20.contrib.requests import TakeProfitDetails, StopLossDetails\n",
    "\n",
    "import oandapyV20.endpoints.orders as orders\n",
    "import oandapyV20\n",
    "\n",
    "\n",
    "from os.path import expanduser\n",
    "\n",
    "oanda_headers = json.loads(open(\"{0}/mrpozzi_oanda_token.json\".format(expanduser(\"~\"))).read())\n",
    "oanda_demo_headers = json.loads(open(\"{0}/mrpozzi_oanda_practice_token.json\".format(expanduser(\"~\"))).read())\n",
    "\n",
    "TOKEN = oanda_headers['token']\n",
    "DEMO_TOKEN = oanda_demo_headers['token']\n"
   ]
  },
  {
   "cell_type": "code",
   "execution_count": 3,
   "id": "ecc1e17c-3ee3-4ad6-994c-95104a8717a5",
   "metadata": {},
   "outputs": [],
   "source": [
    "PRACTICE = True\n",
    "\n",
    "ctx = API(\n",
    "    environment='practice' if PRACTICE else 'live',\n",
    "    access_token=DEMO_TOKEN if PRACTICE else TOKEN,\n",
    "    )"
   ]
  },
  {
   "cell_type": "markdown",
   "id": "3f144020-3a2e-418d-8596-2d17f55c609d",
   "metadata": {},
   "source": [
    "# Place a Order"
   ]
  },
  {
   "cell_type": "code",
   "execution_count": 4,
   "id": "34e8e127-dc61-454f-b295-d26f8c744dc4",
   "metadata": {},
   "outputs": [
    {
     "name": "stdout",
     "output_type": "stream",
     "text": [
      "{'type': 'PRICE', 'time': '2021-10-15T01:09:11.879645297Z', 'bids': [{'price': '1.15955', 'liquidity': 10000000}], 'asks': [{'price': '1.15968', 'liquidity': 10000000}], 'closeoutBid': '1.15955', 'closeoutAsk': '1.15968', 'status': 'tradeable', 'tradeable': True, 'instrument': 'EUR_USD'}\n",
      "{'type': 'HEARTBEAT', 'time': '2021-10-15T01:09:44.800241350Z'}\n",
      "{'type': 'PRICE', 'time': '2021-10-15T01:09:46.019404207Z', 'bids': [{'price': '1.15950', 'liquidity': 10000000}], 'asks': [{'price': '1.15966', 'liquidity': 10000000}], 'closeoutBid': '1.15950', 'closeoutAsk': '1.15966', 'status': 'tradeable', 'tradeable': True, 'instrument': 'EUR_USD'}\n",
      "{'type': 'PRICE', 'time': '2021-10-15T01:09:47.372288099Z', 'bids': [{'price': '1.15950', 'liquidity': 10000000}], 'asks': [{'price': '1.15964', 'liquidity': 10000000}], 'closeoutBid': '1.15950', 'closeoutAsk': '1.15964', 'status': 'tradeable', 'tradeable': True, 'instrument': 'EUR_USD'}\n",
      "Stream processing ended because we made it stop after 3 ticks\n"
     ]
    }
   ],
   "source": [
    "import oandapyV20.endpoints.pricing as pricing\n",
    "from oandapyV20.exceptions import StreamTerminated\n",
    "\n",
    "r = pricing.PricingStream(accountID=oanda_demo_headers[\"id\"], params={\"instruments\": \"EUR_USD\"})\n",
    "\n",
    "stopAfter = 3\n",
    "n = 0\n",
    "current_price = None\n",
    "try:\n",
    "    for tick in ctx.request(r):\n",
    "        print(tick)\n",
    "        if tick['type'] == 'PRICE':\n",
    "            current_price = tick\n",
    "        if n >= stopAfter:\n",
    "            r.terminate()\n",
    "        n += 1\n",
    "except StreamTerminated as err:\n",
    "    print(\"Stream processing ended because we made it stop after {} ticks\".format(n))\n"
   ]
  },
  {
   "cell_type": "code",
   "execution_count": 5,
   "id": "e74b1f2f-4bab-4260-81f5-4967de8e9d5f",
   "metadata": {},
   "outputs": [
    {
     "data": {
      "text/plain": [
       "{'type': 'PRICE',\n",
       " 'time': '2021-10-15T01:09:47.372288099Z',\n",
       " 'bids': [{'price': '1.15950', 'liquidity': 10000000}],\n",
       " 'asks': [{'price': '1.15964', 'liquidity': 10000000}],\n",
       " 'closeoutBid': '1.15950',\n",
       " 'closeoutAsk': '1.15964',\n",
       " 'status': 'tradeable',\n",
       " 'tradeable': True,\n",
       " 'instrument': 'EUR_USD'}"
      ]
     },
     "execution_count": 5,
     "metadata": {},
     "output_type": "execute_result"
    }
   ],
   "source": [
    "current_price"
   ]
  },
  {
   "cell_type": "code",
   "execution_count": 6,
   "id": "af101fd1-f1a3-4cd9-a296-3c6b37b7ecc6",
   "metadata": {},
   "outputs": [
    {
     "data": {
      "text/plain": [
       "0.006"
      ]
     },
     "execution_count": 6,
     "metadata": {},
     "output_type": "execute_result"
    }
   ],
   "source": [
    "60 * 0.0001"
   ]
  },
  {
   "cell_type": "code",
   "execution_count": 1,
   "id": "87103aca-466c-4d24-8227-c7aa8a740ac9",
   "metadata": {},
   "outputs": [
    {
     "data": {
      "text/plain": [
       "0.0017100000000001003"
      ]
     },
     "execution_count": 1,
     "metadata": {},
     "output_type": "execute_result"
    }
   ],
   "source": [
    "1.16276-1.16105"
   ]
  },
  {
   "cell_type": "code",
   "execution_count": 2,
   "id": "01a8e784-4ebf-420e-ac3f-46eef0103df7",
   "metadata": {},
   "outputs": [
    {
     "data": {
      "text/plain": [
       "-0.0014399999999998858"
      ]
     },
     "execution_count": 2,
     "metadata": {},
     "output_type": "execute_result"
    }
   ],
   "source": [
    "1.15839-1.15983"
   ]
  },
  {
   "cell_type": "code",
   "execution_count": 6,
   "id": "2a970276-62cf-483e-a33b-46b303506db2",
   "metadata": {},
   "outputs": [],
   "source": [
    "from datetime import timedelta\n",
    "MAX_DURATION = 21600\n",
    "#GTD_TIME=\n",
    "GTD_TIME=(pd.Timestamp.utcnow() + timedelta(seconds=MAX_DURATION)).isoformat().replace('+00:00', 'Z')"
   ]
  },
  {
   "cell_type": "code",
   "execution_count": 10,
   "id": "4b035669-1ac1-4846-953e-adc5633ededc",
   "metadata": {},
   "outputs": [
    {
     "name": "stdout",
     "output_type": "stream",
     "text": [
      "-1.1999999999989797\n",
      "{\n",
      "  \"orderCreateTransaction\": {\n",
      "    \"id\": \"74\",\n",
      "    \"accountID\": \"101-001-20050760-001\",\n",
      "    \"userID\": 20050760,\n",
      "    \"batchID\": \"74\",\n",
      "    \"requestID\": \"78908779443023334\",\n",
      "    \"time\": \"2021-10-05T16:04:49.306352195Z\",\n",
      "    \"type\": \"MARKET_ORDER\",\n",
      "    \"instrument\": \"EUR_USD\",\n",
      "    \"units\": \"10000\",\n",
      "    \"timeInForce\": \"FOK\",\n",
      "    \"positionFill\": \"DEFAULT\",\n",
      "    \"takeProfitOnFill\": {\n",
      "      \"price\": \"1.16297\",\n",
      "      \"timeInForce\": \"GTC\"\n",
      "    },\n",
      "    \"stopLossOnFill\": {\n",
      "      \"price\": \"1.15797\",\n",
      "      \"timeInForce\": \"GTC\",\n",
      "      \"triggerMode\": \"TOP_OF_BOOK\"\n",
      "    },\n",
      "    \"reason\": \"CLIENT_ORDER\"\n",
      "  },\n",
      "  \"orderFillTransaction\": {\n",
      "    \"id\": \"75\",\n",
      "    \"accountID\": \"101-001-20050760-001\",\n",
      "    \"userID\": 20050760,\n",
      "    \"batchID\": \"74\",\n",
      "    \"requestID\": \"78908779443023334\",\n",
      "    \"time\": \"2021-10-05T16:04:49.306352195Z\",\n",
      "    \"type\": \"ORDER_FILL\",\n",
      "    \"orderID\": \"74\",\n",
      "    \"instrument\": \"EUR_USD\",\n",
      "    \"units\": \"10000\",\n",
      "    \"requestedUnits\": \"10000\",\n",
      "    \"price\": \"1.16125\",\n",
      "    \"pl\": \"0.0000\",\n",
      "    \"quotePL\": \"0\",\n",
      "    \"financing\": \"0.0000\",\n",
      "    \"baseFinancing\": \"0\",\n",
      "    \"commission\": \"0.0000\",\n",
      "    \"accountBalance\": \"99940.0000\",\n",
      "    \"gainQuoteHomeConversionFactor\": \"1\",\n",
      "    \"lossQuoteHomeConversionFactor\": \"1\",\n",
      "    \"guaranteedExecutionFee\": \"0.0000\",\n",
      "    \"quoteGuaranteedExecutionFee\": \"0\",\n",
      "    \"halfSpreadCost\": \"0.6000\",\n",
      "    \"fullVWAP\": \"1.16125\",\n",
      "    \"reason\": \"MARKET_ORDER\",\n",
      "    \"tradeOpened\": {\n",
      "      \"price\": \"1.16125\",\n",
      "      \"tradeID\": \"75\",\n",
      "      \"units\": \"10000\",\n",
      "      \"guaranteedExecutionFee\": \"0.0000\",\n",
      "      \"quoteGuaranteedExecutionFee\": \"0\",\n",
      "      \"halfSpreadCost\": \"0.6000\",\n",
      "      \"initialMarginRequired\": \"232.2380\"\n",
      "    },\n",
      "    \"fullPrice\": {\n",
      "      \"closeoutBid\": \"1.16113\",\n",
      "      \"closeoutAsk\": \"1.16125\",\n",
      "      \"timestamp\": \"2021-10-05T16:04:49.023297529Z\",\n",
      "      \"bids\": [\n",
      "        {\n",
      "          \"price\": \"1.16113\",\n",
      "          \"liquidity\": \"10000000\"\n",
      "        }\n",
      "      ],\n",
      "      \"asks\": [\n",
      "        {\n",
      "          \"price\": \"1.16125\",\n",
      "          \"liquidity\": \"10000000\"\n",
      "        }\n",
      "      ]\n",
      "    },\n",
      "    \"homeConversionFactors\": {\n",
      "      \"gainQuoteHome\": {\n",
      "        \"factor\": \"1\"\n",
      "      },\n",
      "      \"lossQuoteHome\": {\n",
      "        \"factor\": \"1\"\n",
      "      },\n",
      "      \"gainBaseHome\": {\n",
      "        \"factor\": \"1.15538405\"\n",
      "      },\n",
      "      \"lossBaseHome\": {\n",
      "        \"factor\": \"1.16699595\"\n",
      "      }\n",
      "    }\n",
      "  },\n",
      "  \"relatedTransactionIDs\": [\n",
      "    \"74\",\n",
      "    \"75\",\n",
      "    \"76\",\n",
      "    \"77\"\n",
      "  ],\n",
      "  \"lastTransactionID\": \"77\"\n",
      "}\n",
      "1.16097\n",
      "1.16109\n"
     ]
    }
   ],
   "source": [
    "from datetime import timedelta\n",
    "MAX_DURATION = 21600\n",
    "\n",
    "PIP = 0.0001\n",
    "\n",
    "GTD_TIME=(pd.Timestamp.utcnow() + timedelta(seconds=MAX_DURATION)).isoformat().replace('+00:00', 'Z')\n",
    "\n",
    "current_bid = float(current_price['bids'][0]['price'])\n",
    "current_ask = float(current_price['asks'][0]['price'])\n",
    "spread = (current_bid - current_ask) / PIP\n",
    "\n",
    "print(spread)\n",
    "\n",
    "mktOrder = MarketOrderRequest(\n",
    "    instrument=\"EUR_USD\",\n",
    "    units=10000,\n",
    "    takeProfitOnFill=TakeProfitDetails(price=current_bid + 20 * PIP).data,\n",
    "    stopLossOnFill=StopLossDetails(price=current_bid - 30 * PIP).data)\n",
    "\n",
    "# create the OrderCreate request\n",
    "r = orders.OrderCreate(oanda_demo_headers['id'], data=mktOrder.data)\n",
    "try:\n",
    "    # create the OrderCreate request\n",
    "    rv = ctx.request(r)\n",
    "except oandapyV20.exceptions.V20Error as err:\n",
    "    print(r.status_code, err)\n",
    "else:\n",
    "    print(json.dumps(rv, indent=2))\n",
    "\n",
    "print(current_bid)\n",
    "print(current_ask)"
   ]
  },
  {
   "cell_type": "code",
   "execution_count": null,
   "id": "3da5ecf5-b094-480b-a1a7-83c109f41d0a",
   "metadata": {},
   "outputs": [],
   "source": []
  },
  {
   "cell_type": "markdown",
   "id": "b36a4c34-9c34-4896-ac7c-9e035c055c8d",
   "metadata": {},
   "source": [
    "# Monitoring"
   ]
  },
  {
   "cell_type": "code",
   "execution_count": 6,
   "id": "5ffdc0e9-6d5a-4e29-8f08-ec215eb7ed75",
   "metadata": {},
   "outputs": [],
   "source": [
    "import oandapyV20.endpoints.orders as orders\n",
    "import oandapyV20.endpoints.accounts as accounts\n",
    "import oandapyV20.endpoints.positions as positions\n",
    "import oandapyV20.endpoints.trades as trades\n",
    "from oandapyV20.endpoints import transactions"
   ]
  },
  {
   "cell_type": "code",
   "execution_count": 46,
   "id": "113ebb99-cdbf-4783-85ca-72e7caeff9a3",
   "metadata": {},
   "outputs": [],
   "source": [
    "PRACTICE = True\n",
    "\n",
    "oanda_context = API(\n",
    "    environment='practice' if PRACTICE else 'live',\n",
    "    access_token=DEMO_TOKEN if PRACTICE else TOKEN,\n",
    "    )"
   ]
  },
  {
   "cell_type": "code",
   "execution_count": 8,
   "id": "dd1c620e-d99f-43da-a450-3081855049f6",
   "metadata": {},
   "outputs": [
    {
     "data": {
      "text/plain": [
       "{'position': {'instrument': 'EUR_USD',\n",
       "  'long': {'units': '0',\n",
       "   'pl': '-81.5000',\n",
       "   'resettablePL': '-81.5000',\n",
       "   'financing': '-0.5429',\n",
       "   'dividendAdjustment': '0.0000',\n",
       "   'guaranteedExecutionFees': '0.0000',\n",
       "   'unrealizedPL': '0.0000'},\n",
       "  'short': {'units': '-10000',\n",
       "   'averagePrice': '1.15899',\n",
       "   'pl': '-26.3000',\n",
       "   'resettablePL': '-26.3000',\n",
       "   'financing': '0.0000',\n",
       "   'dividendAdjustment': '0.0000',\n",
       "   'guaranteedExecutionFees': '0.0000',\n",
       "   'tradeIDs': ['134'],\n",
       "   'unrealizedPL': '-6.6000'},\n",
       "  'pl': '-107.8000',\n",
       "  'resettablePL': '-107.8000',\n",
       "  'financing': '-0.5429',\n",
       "  'commission': '0.0000',\n",
       "  'dividendAdjustment': '0.0000',\n",
       "  'guaranteedExecutionFees': '0.0000',\n",
       "  'unrealizedPL': '-6.6000',\n",
       "  'marginUsed': '231.9160'},\n",
       " 'lastTransactionID': '136'}"
      ]
     },
     "execution_count": 8,
     "metadata": {},
     "output_type": "execute_result"
    }
   ],
   "source": [
    "dtls_req = positions.PositionDetails(oanda_demo_headers['id'], \"EUR_USD\")\n",
    "oanda_context.request(dtls_req)\n",
    "dtls_req.response"
   ]
  },
  {
   "cell_type": "code",
   "execution_count": 9,
   "id": "5b05fd08-f80d-47aa-89aa-5a0dc5beeeae",
   "metadata": {},
   "outputs": [
    {
     "data": {
      "text/plain": [
       "{'positions': [{'instrument': 'EUR_USD',\n",
       "   'long': {'units': '0',\n",
       "    'pl': '-81.5000',\n",
       "    'resettablePL': '-81.5000',\n",
       "    'financing': '-0.5429',\n",
       "    'dividendAdjustment': '0.0000',\n",
       "    'guaranteedExecutionFees': '0.0000',\n",
       "    'unrealizedPL': '0.0000'},\n",
       "   'short': {'units': '-10000',\n",
       "    'averagePrice': '1.15899',\n",
       "    'pl': '-26.3000',\n",
       "    'resettablePL': '-26.3000',\n",
       "    'financing': '0.0000',\n",
       "    'dividendAdjustment': '0.0000',\n",
       "    'guaranteedExecutionFees': '0.0000',\n",
       "    'tradeIDs': ['134'],\n",
       "    'unrealizedPL': '-6.8000'},\n",
       "   'pl': '-107.8000',\n",
       "   'resettablePL': '-107.8000',\n",
       "   'financing': '-0.5429',\n",
       "   'commission': '0.0000',\n",
       "   'dividendAdjustment': '0.0000',\n",
       "   'guaranteedExecutionFees': '0.0000',\n",
       "   'unrealizedPL': '-6.8000',\n",
       "   'marginUsed': '231.9180'}],\n",
       " 'lastTransactionID': '136'}"
      ]
     },
     "execution_count": 9,
     "metadata": {},
     "output_type": "execute_result"
    }
   ],
   "source": [
    "pos_req = positions.PositionList(oanda_demo_headers['id'])\n",
    "oanda_context.request(pos_req)\n",
    "pos_req.response"
   ]
  },
  {
   "cell_type": "code",
   "execution_count": 10,
   "id": "bbb74d33-81a2-4729-98bd-5f91b440b044",
   "metadata": {},
   "outputs": [
    {
     "data": {
      "text/plain": [
       "{'account': {'guaranteedStopLossOrderMode': 'DISABLED',\n",
       "  'hedgingEnabled': False,\n",
       "  'id': '101-001-20050760-001',\n",
       "  'createdTime': '2021-07-21T19:23:32.440141396Z',\n",
       "  'currency': 'USD',\n",
       "  'createdByUserID': 20050760,\n",
       "  'alias': 'Primary',\n",
       "  'marginRate': '0.02',\n",
       "  'lastTransactionID': '136',\n",
       "  'balance': '99891.6571',\n",
       "  'openTradeCount': 1,\n",
       "  'openPositionCount': 1,\n",
       "  'pendingOrderCount': 2,\n",
       "  'pl': '-107.8000',\n",
       "  'resettablePL': '-107.8000',\n",
       "  'resettablePLTime': '0',\n",
       "  'financing': '-0.5429',\n",
       "  'commission': '0.0000',\n",
       "  'dividendAdjustment': '0',\n",
       "  'guaranteedExecutionFees': '0.0000',\n",
       "  'orders': [{'id': '135',\n",
       "    'createTime': '2021-10-15T00:00:02.316098824Z',\n",
       "    'type': 'TAKE_PROFIT',\n",
       "    'tradeID': '134',\n",
       "    'price': '1.15712',\n",
       "    'timeInForce': 'GTC',\n",
       "    'triggerCondition': 'DEFAULT',\n",
       "    'state': 'PENDING'},\n",
       "   {'id': '136',\n",
       "    'createTime': '2021-10-15T00:00:02.316098824Z',\n",
       "    'type': 'STOP_LOSS',\n",
       "    'tradeID': '134',\n",
       "    'price': '1.16212',\n",
       "    'timeInForce': 'GTC',\n",
       "    'triggerCondition': 'DEFAULT',\n",
       "    'triggerMode': 'TOP_OF_BOOK',\n",
       "    'state': 'PENDING'}],\n",
       "  'positions': [{'instrument': 'EUR_USD',\n",
       "    'long': {'units': '0',\n",
       "     'pl': '-81.5000',\n",
       "     'resettablePL': '-81.5000',\n",
       "     'financing': '-0.5429',\n",
       "     'dividendAdjustment': '0.0000',\n",
       "     'guaranteedExecutionFees': '0.0000',\n",
       "     'unrealizedPL': '0.0000'},\n",
       "    'short': {'units': '-10000',\n",
       "     'averagePrice': '1.15899',\n",
       "     'pl': '-26.3000',\n",
       "     'resettablePL': '-26.3000',\n",
       "     'financing': '0.0000',\n",
       "     'dividendAdjustment': '0.0000',\n",
       "     'guaranteedExecutionFees': '0.0000',\n",
       "     'tradeIDs': ['134'],\n",
       "     'unrealizedPL': '-6.4000'},\n",
       "    'pl': '-107.8000',\n",
       "    'resettablePL': '-107.8000',\n",
       "    'financing': '-0.5429',\n",
       "    'commission': '0.0000',\n",
       "    'dividendAdjustment': '0.0000',\n",
       "    'guaranteedExecutionFees': '0.0000',\n",
       "    'unrealizedPL': '-6.4000',\n",
       "    'marginUsed': '231.9120'}],\n",
       "  'trades': [{'id': '134',\n",
       "    'instrument': 'EUR_USD',\n",
       "    'price': '1.15899',\n",
       "    'openTime': '2021-10-15T00:00:02.316098824Z',\n",
       "    'initialUnits': '-10000',\n",
       "    'initialMarginRequired': '231.8120',\n",
       "    'state': 'OPEN',\n",
       "    'currentUnits': '-10000',\n",
       "    'realizedPL': '0.0000',\n",
       "    'financing': '0.0000',\n",
       "    'dividendAdjustment': '0.0000',\n",
       "    'takeProfitOrderID': '135',\n",
       "    'stopLossOrderID': '136',\n",
       "    'unrealizedPL': '-6.4000',\n",
       "    'marginUsed': '231.9120'}],\n",
       "  'unrealizedPL': '-6.4000',\n",
       "  'NAV': '99885.2571',\n",
       "  'marginUsed': '231.9120',\n",
       "  'marginAvailable': '99653.3451',\n",
       "  'positionValue': '11595.6000',\n",
       "  'marginCloseoutUnrealizedPL': '-5.7000',\n",
       "  'marginCloseoutNAV': '99885.9571',\n",
       "  'marginCloseoutMarginUsed': '231.9120',\n",
       "  'marginCloseoutPositionValue': '11595.6000',\n",
       "  'marginCloseoutPercent': '0.00116',\n",
       "  'withdrawalLimit': '99653.3451',\n",
       "  'marginCallMarginUsed': '231.9120',\n",
       "  'marginCallPercent': '0.00232'},\n",
       " 'lastTransactionID': '136'}"
      ]
     },
     "execution_count": 10,
     "metadata": {},
     "output_type": "execute_result"
    }
   ],
   "source": [
    "r = accounts.AccountDetails(oanda_demo_headers['id'])\n",
    "oanda_context.request(r)\n",
    "float(r.response['account']['balance'])\n",
    "r.response"
   ]
  },
  {
   "cell_type": "markdown",
   "id": "7c30919c-debc-449d-92ad-d91b55170da4",
   "metadata": {},
   "source": [
    "## Transactions"
   ]
  },
  {
   "cell_type": "code",
   "execution_count": 27,
   "id": "586949da-abbf-4a67-b555-4c9c9bca7b92",
   "metadata": {},
   "outputs": [],
   "source": []
  },
  {
   "cell_type": "code",
   "execution_count": 47,
   "id": "8dfddea6-888a-4006-b56d-3c26c1d2ef2c",
   "metadata": {},
   "outputs": [],
   "source": [
    "r = transactions.TransactionsSinceID(accountID=oanda_demo_headers['id'], params={\"id\": 129})\n",
    "transacts = oanda_context.request(r)\n",
    "past_transactions = r.response"
   ]
  },
  {
   "cell_type": "code",
   "execution_count": 49,
   "id": "9e327e6d-9930-4126-ba89-b69142625c6d",
   "metadata": {},
   "outputs": [
    {
     "data": {
      "text/plain": [
       "[(0, '130', 'ORDER_FILL'),\n",
       " (1, '131', 'ORDER_CANCEL'),\n",
       " (2, '132', 'ORDER_CANCEL'),\n",
       " (3, '133', 'MARKET_ORDER'),\n",
       " (4, '134', 'ORDER_FILL'),\n",
       " (5, '135', 'TAKE_PROFIT_ORDER'),\n",
       " (6, '136', 'STOP_LOSS_ORDER'),\n",
       " (7, '137', 'MARKET_ORDER'),\n",
       " (8, '138', 'ORDER_FILL'),\n",
       " (9, '139', 'ORDER_CANCEL'),\n",
       " (10, '140', 'ORDER_CANCEL'),\n",
       " (11, '141', 'MARKET_ORDER'),\n",
       " (12, '142', 'ORDER_FILL'),\n",
       " (13, '143', 'TAKE_PROFIT_ORDER'),\n",
       " (14, '144', 'STOP_LOSS_ORDER'),\n",
       " (15, '145', 'MARKET_ORDER'),\n",
       " (16, '146', 'ORDER_FILL'),\n",
       " (17, '147', 'ORDER_CANCEL'),\n",
       " (18, '148', 'ORDER_CANCEL')]"
      ]
     },
     "execution_count": 49,
     "metadata": {},
     "output_type": "execute_result"
    }
   ],
   "source": [
    "[(i, t['id'], t['type']) for i, t in enumerate(past_transactions['transactions'])]"
   ]
  },
  {
   "cell_type": "code",
   "execution_count": 140,
   "id": "8b94aa89-34b8-47b5-a615-e9ea0568de26",
   "metadata": {},
   "outputs": [],
   "source": [
    "for index, position in positions.iterrows():\n",
    "    price = 'ask' if position.side == 'buy' else 'bid'"
   ]
  },
  {
   "cell_type": "code",
   "execution_count": 144,
   "id": "0b7e43c5-4746-40a6-9add-673f6b754a20",
   "metadata": {},
   "outputs": [
    {
     "name": "stdout",
     "output_type": "stream",
     "text": [
      "S\n"
     ]
    }
   ],
   "source": []
  },
  {
   "cell_type": "code",
   "execution_count": 142,
   "id": "af6589aa-2b25-4eae-84f7-0affc97ec968",
   "metadata": {},
   "outputs": [
    {
     "data": {
      "text/html": [
       "<div>\n",
       "<style scoped>\n",
       "    .dataframe tbody tr th:only-of-type {\n",
       "        vertical-align: middle;\n",
       "    }\n",
       "\n",
       "    .dataframe tbody tr th {\n",
       "        vertical-align: top;\n",
       "    }\n",
       "\n",
       "    .dataframe thead th {\n",
       "        text-align: right;\n",
       "    }\n",
       "</style>\n",
       "<table border=\"1\" class=\"dataframe\">\n",
       "  <thead>\n",
       "    <tr style=\"text-align: right;\">\n",
       "      <th></th>\n",
       "      <th>id</th>\n",
       "      <th>open</th>\n",
       "      <th>open_id</th>\n",
       "      <th>price</th>\n",
       "      <th>accountBalance</th>\n",
       "      <th>pl</th>\n",
       "      <th>units</th>\n",
       "      <th>amount</th>\n",
       "      <th>time</th>\n",
       "      <th>side</th>\n",
       "      <th>price_open</th>\n",
       "      <th>time_open</th>\n",
       "      <th>draw_down</th>\n",
       "      <th>duration</th>\n",
       "      <th>roi</th>\n",
       "    </tr>\n",
       "  </thead>\n",
       "  <tbody>\n",
       "    <tr>\n",
       "      <th>0</th>\n",
       "      <td>138</td>\n",
       "      <td>False</td>\n",
       "      <td>134</td>\n",
       "      <td>1.16093</td>\n",
       "      <td>99872.2571</td>\n",
       "      <td>-19.4</td>\n",
       "      <td>10000</td>\n",
       "      <td>11609.3</td>\n",
       "      <td>2021-10-15 03:00:06.567766397+00:00</td>\n",
       "      <td>buy</td>\n",
       "      <td>1.15899</td>\n",
       "      <td>2021-10-15 00:00:02.316098824+00:00</td>\n",
       "      <td>0.000194</td>\n",
       "      <td>10804</td>\n",
       "      <td>0.001674</td>\n",
       "    </tr>\n",
       "    <tr>\n",
       "      <th>1</th>\n",
       "      <td>146</td>\n",
       "      <td>False</td>\n",
       "      <td>142</td>\n",
       "      <td>1.16058</td>\n",
       "      <td>99869.4571</td>\n",
       "      <td>-2.8</td>\n",
       "      <td>10000</td>\n",
       "      <td>11605.8</td>\n",
       "      <td>2021-10-15 19:00:01.209731387+00:00</td>\n",
       "      <td>buy</td>\n",
       "      <td>1.16030</td>\n",
       "      <td>2021-10-15 09:00:01.150228291+00:00</td>\n",
       "      <td>0.000028</td>\n",
       "      <td>36000</td>\n",
       "      <td>0.000241</td>\n",
       "    </tr>\n",
       "  </tbody>\n",
       "</table>\n",
       "</div>"
      ],
      "text/plain": [
       "    id   open open_id    price  accountBalance    pl  units   amount  \\\n",
       "0  138  False     134  1.16093      99872.2571 -19.4  10000  11609.3   \n",
       "1  146  False     142  1.16058      99869.4571  -2.8  10000  11605.8   \n",
       "\n",
       "                                 time side  price_open  \\\n",
       "0 2021-10-15 03:00:06.567766397+00:00  buy     1.15899   \n",
       "1 2021-10-15 19:00:01.209731387+00:00  buy     1.16030   \n",
       "\n",
       "                            time_open  draw_down  duration       roi  \n",
       "0 2021-10-15 00:00:02.316098824+00:00   0.000194     10804  0.001674  \n",
       "1 2021-10-15 09:00:01.150228291+00:00   0.000028     36000  0.000241  "
      ]
     },
     "execution_count": 142,
     "metadata": {},
     "output_type": "execute_result"
    }
   ],
   "source": [
    "closed_positions"
   ]
  },
  {
   "cell_type": "code",
   "execution_count": 112,
   "id": "92734d1d-3b9b-4c0d-85db-6f446030b86a",
   "metadata": {},
   "outputs": [],
   "source": [
    "def format_transaction(t):\n",
    "    return {'id': t['id'], \n",
    "            'open': 'tradeOpened' in t, \n",
    "            'open_id': t.get('tradeOpened',t.get('tradesClosed',[None])[0])['tradeID'],\n",
    "            'price': float(t['price']),\n",
    "            'accountBalance': float(t['accountBalance']),\n",
    "            'pl': float(t['pl']),\n",
    "            'units': int(t['units']),\n",
    "            'amount': int(t['units']) * float(t['price']),\n",
    "            'time': pd.to_datetime(t['time'], utc=True),\n",
    "            'side': 'buy' if int(t['units']) > 0 else 'sell'\n",
    "           }\n",
    "\n",
    "def get_roi(row):\n",
    "    if row['side'] == 'buy':\n",
    "        roi = (row['price'] - row['price_open']) / row['price_open']\n",
    "    else:\n",
    "        roi = (row['price_open'] - row['price']) / row['price_open']\n",
    "    return roi"
   ]
  },
  {
   "cell_type": "code",
   "execution_count": 111,
   "id": "a7b97699-cc97-4ae2-9f87-7ee5eecdd544",
   "metadata": {},
   "outputs": [
    {
     "data": {
      "text/plain": [
       "Timestamp('2021-10-15 09:00:01.150228291+0000', tz='UTC')"
      ]
     },
     "execution_count": 111,
     "metadata": {},
     "output_type": "execute_result"
    }
   ],
   "source": []
  },
  {
   "cell_type": "code",
   "execution_count": 115,
   "id": "5572161b-05cc-4f74-9693-9f4fabd37323",
   "metadata": {},
   "outputs": [
    {
     "data": {
      "text/html": [
       "<div>\n",
       "<style scoped>\n",
       "    .dataframe tbody tr th:only-of-type {\n",
       "        vertical-align: middle;\n",
       "    }\n",
       "\n",
       "    .dataframe tbody tr th {\n",
       "        vertical-align: top;\n",
       "    }\n",
       "\n",
       "    .dataframe thead th {\n",
       "        text-align: right;\n",
       "    }\n",
       "</style>\n",
       "<table border=\"1\" class=\"dataframe\">\n",
       "  <thead>\n",
       "    <tr style=\"text-align: right;\">\n",
       "      <th></th>\n",
       "      <th>id</th>\n",
       "      <th>open</th>\n",
       "      <th>open_id</th>\n",
       "      <th>price</th>\n",
       "      <th>accountBalance</th>\n",
       "      <th>pl</th>\n",
       "      <th>units</th>\n",
       "      <th>amount</th>\n",
       "      <th>time</th>\n",
       "      <th>side</th>\n",
       "      <th>price_open</th>\n",
       "      <th>time_open</th>\n",
       "      <th>draw_down</th>\n",
       "      <th>duration</th>\n",
       "      <th>roi</th>\n",
       "    </tr>\n",
       "  </thead>\n",
       "  <tbody>\n",
       "    <tr>\n",
       "      <th>0</th>\n",
       "      <td>138</td>\n",
       "      <td>False</td>\n",
       "      <td>134</td>\n",
       "      <td>1.16093</td>\n",
       "      <td>99872.2571</td>\n",
       "      <td>-19.4</td>\n",
       "      <td>10000</td>\n",
       "      <td>11609.3</td>\n",
       "      <td>2021-10-15 03:00:06.567766397+00:00</td>\n",
       "      <td>buy</td>\n",
       "      <td>1.15899</td>\n",
       "      <td>2021-10-15 00:00:02.316098824+00:00</td>\n",
       "      <td>0.000194</td>\n",
       "      <td>10804</td>\n",
       "      <td>0.001674</td>\n",
       "    </tr>\n",
       "    <tr>\n",
       "      <th>1</th>\n",
       "      <td>146</td>\n",
       "      <td>False</td>\n",
       "      <td>142</td>\n",
       "      <td>1.16058</td>\n",
       "      <td>99869.4571</td>\n",
       "      <td>-2.8</td>\n",
       "      <td>10000</td>\n",
       "      <td>11605.8</td>\n",
       "      <td>2021-10-15 19:00:01.209731387+00:00</td>\n",
       "      <td>buy</td>\n",
       "      <td>1.16030</td>\n",
       "      <td>2021-10-15 09:00:01.150228291+00:00</td>\n",
       "      <td>0.000028</td>\n",
       "      <td>36000</td>\n",
       "      <td>0.000241</td>\n",
       "    </tr>\n",
       "  </tbody>\n",
       "</table>\n",
       "</div>"
      ],
      "text/plain": [
       "    id   open open_id    price  accountBalance    pl  units   amount  \\\n",
       "0  138  False     134  1.16093      99872.2571 -19.4  10000  11609.3   \n",
       "1  146  False     142  1.16058      99869.4571  -2.8  10000  11605.8   \n",
       "\n",
       "                                 time side  price_open  \\\n",
       "0 2021-10-15 03:00:06.567766397+00:00  buy     1.15899   \n",
       "1 2021-10-15 19:00:01.209731387+00:00  buy     1.16030   \n",
       "\n",
       "                            time_open  draw_down  duration       roi  \n",
       "0 2021-10-15 00:00:02.316098824+00:00   0.000194     10804  0.001674  \n",
       "1 2021-10-15 09:00:01.150228291+00:00   0.000028     36000  0.000241  "
      ]
     },
     "execution_count": 115,
     "metadata": {},
     "output_type": "execute_result"
    }
   ],
   "source": [
    "all_transaction = pd.DataFrame(\n",
    "    [format_transaction(t) for t in past_transactions['transactions'] if t['type'] == 'ORDER_FILL']\n",
    ")\n",
    "closed_positions = all_transaction.query(\"not open\").copy().merge(\n",
    "    all_transaction.query(\"open\")[['price', 'open_id', 'time']], on='open_id', suffixes=('', '_open'))\n",
    "closed_positions['draw_down'] = closed_positions['pl'].abs() / (\n",
    "    closed_positions['accountBalance'] - closed_positions['pl'])\n",
    "closed_positions['duration'] = (closed_positions['time'] - closed_positions['time_open']).dt.seconds\n",
    "# roi = pl / open_price\n",
    "# TODO: ROI is not quite what we want it to be here... or is it?\n",
    "closed_positions['roi'] = closed_positions.apply(get_roi, axis=1)\n",
    "closed_positions"
   ]
  },
  {
   "cell_type": "code",
   "execution_count": 50,
   "id": "74340dd3-1353-434b-abf3-6966aafd6634",
   "metadata": {},
   "outputs": [
    {
     "data": {
      "text/plain": [
       "{'id': '146',\n",
       " 'accountID': '101-001-20050760-001',\n",
       " 'userID': 20050760,\n",
       " 'batchID': '145',\n",
       " 'requestID': '42883650394285333',\n",
       " 'time': '2021-10-15T19:00:01.209731387Z',\n",
       " 'type': 'ORDER_FILL',\n",
       " 'orderID': '145',\n",
       " 'instrument': 'EUR_USD',\n",
       " 'units': '10000',\n",
       " 'requestedUnits': '10000',\n",
       " 'price': '1.16058',\n",
       " 'pl': '-2.8000',\n",
       " 'quotePL': '-2.80000',\n",
       " 'financing': '0.0000',\n",
       " 'baseFinancing': '0.00000000000000',\n",
       " 'commission': '0.0000',\n",
       " 'accountBalance': '99869.4571',\n",
       " 'gainQuoteHomeConversionFactor': '1',\n",
       " 'lossQuoteHomeConversionFactor': '1',\n",
       " 'guaranteedExecutionFee': '0.0000',\n",
       " 'quoteGuaranteedExecutionFee': '0',\n",
       " 'halfSpreadCost': '0.7500',\n",
       " 'fullVWAP': '1.16058',\n",
       " 'reason': 'MARKET_ORDER',\n",
       " 'tradesClosed': [{'tradeID': '142',\n",
       "   'units': '10000',\n",
       "   'realizedPL': '-2.8000',\n",
       "   'financing': '0.0000',\n",
       "   'baseFinancing': '0.00000000000000',\n",
       "   'price': '1.16058',\n",
       "   'guaranteedExecutionFee': '0.0000',\n",
       "   'quoteGuaranteedExecutionFee': '0',\n",
       "   'halfSpreadCost': '0.7500',\n",
       "   'plHomeConversionCost': '0.00000',\n",
       "   'baseFinancingHomeConversionCost': '0.00000000000000',\n",
       "   'guaranteedExecutionFeeHomeConversionCost': '0',\n",
       "   'homeConversionCost': '0.00000000000000'}],\n",
       " 'fullPrice': {'closeoutBid': '1.16043',\n",
       "  'closeoutAsk': '1.16058',\n",
       "  'timestamp': '2021-10-15T19:00:00.451049219Z',\n",
       "  'bids': [{'price': '1.16043', 'liquidity': '10000000'}],\n",
       "  'asks': [{'price': '1.16058', 'liquidity': '10000000'}]},\n",
       " 'homeConversionFactors': {'gainQuoteHome': {'factor': '1'},\n",
       "  'lossQuoteHome': {'factor': '1'},\n",
       "  'gainBaseHome': {'factor': '1.15469750'},\n",
       "  'lossBaseHome': {'factor': '1.16630250'}},\n",
       " 'plHomeConversionCost': '0.00000',\n",
       " 'baseFinancingHomeConversionCost': '0.00000000000000',\n",
       " 'guaranteedExecutionFeeHomeConversionCost': '0',\n",
       " 'homeConversionCost': '0.00000000000000'}"
      ]
     },
     "execution_count": 50,
     "metadata": {},
     "output_type": "execute_result"
    }
   ],
   "source": [
    "past_transactions['transactions'][16]"
   ]
  },
  {
   "cell_type": "code",
   "execution_count": 51,
   "id": "974a3484-d156-454c-afb6-415ef9eabc8f",
   "metadata": {},
   "outputs": [
    {
     "data": {
      "text/plain": [
       "{'id': '142',\n",
       " 'accountID': '101-001-20050760-001',\n",
       " 'userID': 20050760,\n",
       " 'batchID': '141',\n",
       " 'requestID': '24869100890739278',\n",
       " 'time': '2021-10-15T09:00:01.150228291Z',\n",
       " 'type': 'ORDER_FILL',\n",
       " 'orderID': '141',\n",
       " 'instrument': 'EUR_USD',\n",
       " 'units': '-10000',\n",
       " 'requestedUnits': '-10000',\n",
       " 'price': '1.16030',\n",
       " 'pl': '0.0000',\n",
       " 'quotePL': '0',\n",
       " 'financing': '0.0000',\n",
       " 'baseFinancing': '0',\n",
       " 'commission': '0.0000',\n",
       " 'accountBalance': '99872.2571',\n",
       " 'gainQuoteHomeConversionFactor': '1',\n",
       " 'lossQuoteHomeConversionFactor': '1',\n",
       " 'guaranteedExecutionFee': '0.0000',\n",
       " 'quoteGuaranteedExecutionFee': '0',\n",
       " 'halfSpreadCost': '0.6500',\n",
       " 'fullVWAP': '1.16030',\n",
       " 'reason': 'MARKET_ORDER',\n",
       " 'tradeOpened': {'price': '1.16030',\n",
       "  'tradeID': '142',\n",
       "  'units': '-10000',\n",
       "  'guaranteedExecutionFee': '0.0000',\n",
       "  'quoteGuaranteedExecutionFee': '0',\n",
       "  'halfSpreadCost': '0.6500',\n",
       "  'initialMarginRequired': '232.0720',\n",
       "  'guaranteedExecutionFeeHomeConversionCost': '0'},\n",
       " 'fullPrice': {'closeoutBid': '1.16030',\n",
       "  'closeoutAsk': '1.16043',\n",
       "  'timestamp': '2021-10-15T09:00:00.900797837Z',\n",
       "  'bids': [{'price': '1.16030', 'liquidity': '10000000'}],\n",
       "  'asks': [{'price': '1.16043', 'liquidity': '10000000'}]},\n",
       " 'homeConversionFactors': {'gainQuoteHome': {'factor': '1'},\n",
       "  'lossQuoteHome': {'factor': '1'},\n",
       "  'gainBaseHome': {'factor': '1.15455820'},\n",
       "  'lossBaseHome': {'factor': '1.16616180'}},\n",
       " 'plHomeConversionCost': '0',\n",
       " 'baseFinancingHomeConversionCost': '0.00000000',\n",
       " 'guaranteedExecutionFeeHomeConversionCost': '0',\n",
       " 'homeConversionCost': '0.00000000'}"
      ]
     },
     "execution_count": 51,
     "metadata": {},
     "output_type": "execute_result"
    }
   ],
   "source": [
    "past_transactions['transactions'][12]"
   ]
  },
  {
   "cell_type": "code",
   "execution_count": null,
   "id": "bd39b31e-9481-46d0-9ffb-2089adb31178",
   "metadata": {},
   "outputs": [],
   "source": []
  },
  {
   "cell_type": "code",
   "execution_count": 45,
   "id": "1ad3b115-a723-47da-a9b2-a792eb046e6e",
   "metadata": {
    "tags": []
   },
   "outputs": [
    {
     "data": {
      "text/plain": [
       "{'id': '134',\n",
       " 'accountID': '101-001-20050760-001',\n",
       " 'userID': 20050760,\n",
       " 'batchID': '133',\n",
       " 'requestID': '24868964996874252',\n",
       " 'time': '2021-10-15T00:00:02.316098824Z',\n",
       " 'type': 'ORDER_FILL',\n",
       " 'orderID': '133',\n",
       " 'instrument': 'EUR_USD',\n",
       " 'units': '-10000',\n",
       " 'requestedUnits': '-10000',\n",
       " 'price': '1.15899',\n",
       " 'pl': '0.0000',\n",
       " 'quotePL': '0',\n",
       " 'financing': '0.0000',\n",
       " 'baseFinancing': '0',\n",
       " 'commission': '0.0000',\n",
       " 'accountBalance': '99891.6571',\n",
       " 'gainQuoteHomeConversionFactor': '1',\n",
       " 'lossQuoteHomeConversionFactor': '1',\n",
       " 'guaranteedExecutionFee': '0.0000',\n",
       " 'quoteGuaranteedExecutionFee': '0',\n",
       " 'halfSpreadCost': '0.6500',\n",
       " 'fullVWAP': '1.15899',\n",
       " 'reason': 'MARKET_ORDER',\n",
       " 'tradeOpened': {'price': '1.15899',\n",
       "  'tradeID': '134',\n",
       "  'units': '-10000',\n",
       "  'guaranteedExecutionFee': '0.0000',\n",
       "  'quoteGuaranteedExecutionFee': '0',\n",
       "  'halfSpreadCost': '0.6500',\n",
       "  'initialMarginRequired': '231.8120',\n",
       "  'guaranteedExecutionFeeHomeConversionCost': '0'},\n",
       " 'fullPrice': {'closeoutBid': '1.15899',\n",
       "  'closeoutAsk': '1.15912',\n",
       "  'timestamp': '2021-10-15T00:00:01.161918320Z',\n",
       "  'bids': [{'price': '1.15899', 'liquidity': '10000000'}],\n",
       "  'asks': [{'price': '1.15912', 'liquidity': '10000000'}]},\n",
       " 'homeConversionFactors': {'gainQuoteHome': {'factor': '1'},\n",
       "  'lossQuoteHome': {'factor': '1'},\n",
       "  'gainBaseHome': {'factor': '1.15326470'},\n",
       "  'lossBaseHome': {'factor': '1.16485530'}},\n",
       " 'plHomeConversionCost': '0',\n",
       " 'baseFinancingHomeConversionCost': '0.00000000',\n",
       " 'guaranteedExecutionFeeHomeConversionCost': '0',\n",
       " 'homeConversionCost': '0.00000000'}"
      ]
     },
     "execution_count": 45,
     "metadata": {},
     "output_type": "execute_result"
    }
   ],
   "source": [
    "past_transactions['transactions'][4]"
   ]
  },
  {
   "cell_type": "code",
   "execution_count": 41,
   "id": "7e60eb1e-5d3b-4f98-8544-8087e7e8c5a8",
   "metadata": {},
   "outputs": [
    {
     "data": {
      "text/plain": [
       "{'id': '130',\n",
       " 'accountID': '101-001-20050760-001',\n",
       " 'userID': 20050760,\n",
       " 'batchID': '129',\n",
       " 'requestID': '42883310668599162',\n",
       " 'time': '2021-10-14T20:30:04.714030742Z',\n",
       " 'type': 'ORDER_FILL',\n",
       " 'orderID': '129',\n",
       " 'instrument': 'EUR_USD',\n",
       " 'units': '10000',\n",
       " 'requestedUnits': '10000',\n",
       " 'price': '1.15983',\n",
       " 'pl': '4.9000',\n",
       " 'quotePL': '4.90000',\n",
       " 'financing': '0.0000',\n",
       " 'baseFinancing': '0.00000000000000',\n",
       " 'commission': '0.0000',\n",
       " 'accountBalance': '99891.6571',\n",
       " 'gainQuoteHomeConversionFactor': '1',\n",
       " 'lossQuoteHomeConversionFactor': '1',\n",
       " 'guaranteedExecutionFee': '0.0000',\n",
       " 'quoteGuaranteedExecutionFee': '0',\n",
       " 'halfSpreadCost': '0.6000',\n",
       " 'fullVWAP': '1.15983',\n",
       " 'reason': 'MARKET_ORDER',\n",
       " 'tradesClosed': [{'tradeID': '126',\n",
       "   'units': '10000',\n",
       "   'realizedPL': '4.9000',\n",
       "   'financing': '0.0000',\n",
       "   'baseFinancing': '0.00000000000000',\n",
       "   'price': '1.15983',\n",
       "   'guaranteedExecutionFee': '0.0000',\n",
       "   'quoteGuaranteedExecutionFee': '0',\n",
       "   'halfSpreadCost': '0.6000',\n",
       "   'plHomeConversionCost': '0.00000',\n",
       "   'baseFinancingHomeConversionCost': '0.00000000000000',\n",
       "   'guaranteedExecutionFeeHomeConversionCost': '0',\n",
       "   'homeConversionCost': '0.00000000000000'}],\n",
       " 'fullPrice': {'closeoutBid': '1.15971',\n",
       "  'closeoutAsk': '1.15983',\n",
       "  'timestamp': '2021-10-14T20:30:04.398082450Z',\n",
       "  'bids': [{'price': '1.15971', 'liquidity': '10000000'}],\n",
       "  'asks': [{'price': '1.15983', 'liquidity': '10000000'}]},\n",
       " 'homeConversionFactors': {'gainQuoteHome': {'factor': '1'},\n",
       "  'lossQuoteHome': {'factor': '1'},\n",
       "  'gainBaseHome': {'factor': '1.15397115'},\n",
       "  'lossBaseHome': {'factor': '1.16556885'}},\n",
       " 'plHomeConversionCost': '0.00000',\n",
       " 'baseFinancingHomeConversionCost': '0.00000000000000',\n",
       " 'guaranteedExecutionFeeHomeConversionCost': '0',\n",
       " 'homeConversionCost': '0.00000000000000'}"
      ]
     },
     "execution_count": 41,
     "metadata": {},
     "output_type": "execute_result"
    }
   ],
   "source": [
    "past_transactions['transactions'][0]"
   ]
  },
  {
   "cell_type": "code",
   "execution_count": 37,
   "id": "5beba8d4-b903-4cb6-8d2e-4fb8c7357314",
   "metadata": {},
   "outputs": [
    {
     "data": {
      "text/plain": [
       "{'transactions': [{'id': '130',\n",
       "   'accountID': '101-001-20050760-001',\n",
       "   'userID': 20050760,\n",
       "   'batchID': '129',\n",
       "   'requestID': '42883310668599162',\n",
       "   'time': '2021-10-14T20:30:04.714030742Z',\n",
       "   'type': 'ORDER_FILL',\n",
       "   'orderID': '129',\n",
       "   'instrument': 'EUR_USD',\n",
       "   'units': '10000',\n",
       "   'requestedUnits': '10000',\n",
       "   'price': '1.15983',\n",
       "   'pl': '4.9000',\n",
       "   'quotePL': '4.90000',\n",
       "   'financing': '0.0000',\n",
       "   'baseFinancing': '0.00000000000000',\n",
       "   'commission': '0.0000',\n",
       "   'accountBalance': '99891.6571',\n",
       "   'gainQuoteHomeConversionFactor': '1',\n",
       "   'lossQuoteHomeConversionFactor': '1',\n",
       "   'guaranteedExecutionFee': '0.0000',\n",
       "   'quoteGuaranteedExecutionFee': '0',\n",
       "   'halfSpreadCost': '0.6000',\n",
       "   'fullVWAP': '1.15983',\n",
       "   'reason': 'MARKET_ORDER',\n",
       "   'tradesClosed': [{'tradeID': '126',\n",
       "     'units': '10000',\n",
       "     'realizedPL': '4.9000',\n",
       "     'financing': '0.0000',\n",
       "     'baseFinancing': '0.00000000000000',\n",
       "     'price': '1.15983',\n",
       "     'guaranteedExecutionFee': '0.0000',\n",
       "     'quoteGuaranteedExecutionFee': '0',\n",
       "     'halfSpreadCost': '0.6000',\n",
       "     'plHomeConversionCost': '0.00000',\n",
       "     'baseFinancingHomeConversionCost': '0.00000000000000',\n",
       "     'guaranteedExecutionFeeHomeConversionCost': '0',\n",
       "     'homeConversionCost': '0.00000000000000'}],\n",
       "   'fullPrice': {'closeoutBid': '1.15971',\n",
       "    'closeoutAsk': '1.15983',\n",
       "    'timestamp': '2021-10-14T20:30:04.398082450Z',\n",
       "    'bids': [{'price': '1.15971', 'liquidity': '10000000'}],\n",
       "    'asks': [{'price': '1.15983', 'liquidity': '10000000'}]},\n",
       "   'homeConversionFactors': {'gainQuoteHome': {'factor': '1'},\n",
       "    'lossQuoteHome': {'factor': '1'},\n",
       "    'gainBaseHome': {'factor': '1.15397115'},\n",
       "    'lossBaseHome': {'factor': '1.16556885'}},\n",
       "   'plHomeConversionCost': '0.00000',\n",
       "   'baseFinancingHomeConversionCost': '0.00000000000000',\n",
       "   'guaranteedExecutionFeeHomeConversionCost': '0',\n",
       "   'homeConversionCost': '0.00000000000000'},\n",
       "  {'id': '131',\n",
       "   'accountID': '101-001-20050760-001',\n",
       "   'userID': 20050760,\n",
       "   'batchID': '129',\n",
       "   'requestID': '42883310668599162',\n",
       "   'time': '2021-10-14T20:30:04.714030742Z',\n",
       "   'type': 'ORDER_CANCEL',\n",
       "   'orderID': '127',\n",
       "   'reason': 'LINKED_TRADE_CLOSED',\n",
       "   'closedTradeID': '126',\n",
       "   'tradeCloseTransactionID': '130'},\n",
       "  {'id': '132',\n",
       "   'accountID': '101-001-20050760-001',\n",
       "   'userID': 20050760,\n",
       "   'batchID': '129',\n",
       "   'requestID': '42883310668599162',\n",
       "   'time': '2021-10-14T20:30:04.714030742Z',\n",
       "   'type': 'ORDER_CANCEL',\n",
       "   'orderID': '128',\n",
       "   'reason': 'LINKED_TRADE_CLOSED',\n",
       "   'closedTradeID': '126',\n",
       "   'tradeCloseTransactionID': '130'},\n",
       "  {'id': '133',\n",
       "   'accountID': '101-001-20050760-001',\n",
       "   'userID': 20050760,\n",
       "   'batchID': '133',\n",
       "   'requestID': '24868964996874252',\n",
       "   'time': '2021-10-15T00:00:02.316098824Z',\n",
       "   'type': 'MARKET_ORDER',\n",
       "   'instrument': 'EUR_USD',\n",
       "   'units': '-10000',\n",
       "   'timeInForce': 'FOK',\n",
       "   'positionFill': 'DEFAULT',\n",
       "   'takeProfitOnFill': {'price': '1.15712', 'timeInForce': 'GTC'},\n",
       "   'stopLossOnFill': {'price': '1.16212',\n",
       "    'timeInForce': 'GTC',\n",
       "    'triggerMode': 'TOP_OF_BOOK'},\n",
       "   'reason': 'CLIENT_ORDER'},\n",
       "  {'id': '134',\n",
       "   'accountID': '101-001-20050760-001',\n",
       "   'userID': 20050760,\n",
       "   'batchID': '133',\n",
       "   'requestID': '24868964996874252',\n",
       "   'time': '2021-10-15T00:00:02.316098824Z',\n",
       "   'type': 'ORDER_FILL',\n",
       "   'orderID': '133',\n",
       "   'instrument': 'EUR_USD',\n",
       "   'units': '-10000',\n",
       "   'requestedUnits': '-10000',\n",
       "   'price': '1.15899',\n",
       "   'pl': '0.0000',\n",
       "   'quotePL': '0',\n",
       "   'financing': '0.0000',\n",
       "   'baseFinancing': '0',\n",
       "   'commission': '0.0000',\n",
       "   'accountBalance': '99891.6571',\n",
       "   'gainQuoteHomeConversionFactor': '1',\n",
       "   'lossQuoteHomeConversionFactor': '1',\n",
       "   'guaranteedExecutionFee': '0.0000',\n",
       "   'quoteGuaranteedExecutionFee': '0',\n",
       "   'halfSpreadCost': '0.6500',\n",
       "   'fullVWAP': '1.15899',\n",
       "   'reason': 'MARKET_ORDER',\n",
       "   'tradeOpened': {'price': '1.15899',\n",
       "    'tradeID': '134',\n",
       "    'units': '-10000',\n",
       "    'guaranteedExecutionFee': '0.0000',\n",
       "    'quoteGuaranteedExecutionFee': '0',\n",
       "    'halfSpreadCost': '0.6500',\n",
       "    'initialMarginRequired': '231.8120',\n",
       "    'guaranteedExecutionFeeHomeConversionCost': '0'},\n",
       "   'fullPrice': {'closeoutBid': '1.15899',\n",
       "    'closeoutAsk': '1.15912',\n",
       "    'timestamp': '2021-10-15T00:00:01.161918320Z',\n",
       "    'bids': [{'price': '1.15899', 'liquidity': '10000000'}],\n",
       "    'asks': [{'price': '1.15912', 'liquidity': '10000000'}]},\n",
       "   'homeConversionFactors': {'gainQuoteHome': {'factor': '1'},\n",
       "    'lossQuoteHome': {'factor': '1'},\n",
       "    'gainBaseHome': {'factor': '1.15326470'},\n",
       "    'lossBaseHome': {'factor': '1.16485530'}},\n",
       "   'plHomeConversionCost': '0',\n",
       "   'baseFinancingHomeConversionCost': '0.00000000',\n",
       "   'guaranteedExecutionFeeHomeConversionCost': '0',\n",
       "   'homeConversionCost': '0.00000000'},\n",
       "  {'id': '135',\n",
       "   'accountID': '101-001-20050760-001',\n",
       "   'userID': 20050760,\n",
       "   'batchID': '133',\n",
       "   'requestID': '24868964996874252',\n",
       "   'time': '2021-10-15T00:00:02.316098824Z',\n",
       "   'type': 'TAKE_PROFIT_ORDER',\n",
       "   'tradeID': '134',\n",
       "   'timeInForce': 'GTC',\n",
       "   'triggerCondition': 'DEFAULT',\n",
       "   'price': '1.15712',\n",
       "   'reason': 'ON_FILL'},\n",
       "  {'id': '136',\n",
       "   'accountID': '101-001-20050760-001',\n",
       "   'userID': 20050760,\n",
       "   'batchID': '133',\n",
       "   'requestID': '24868964996874252',\n",
       "   'time': '2021-10-15T00:00:02.316098824Z',\n",
       "   'type': 'STOP_LOSS_ORDER',\n",
       "   'tradeID': '134',\n",
       "   'timeInForce': 'GTC',\n",
       "   'triggerCondition': 'DEFAULT',\n",
       "   'triggerMode': 'TOP_OF_BOOK',\n",
       "   'price': '1.16212',\n",
       "   'reason': 'ON_FILL'}],\n",
       " 'lastTransactionID': '136'}"
      ]
     },
     "execution_count": 37,
     "metadata": {},
     "output_type": "execute_result"
    }
   ],
   "source": [
    "past_transactions"
   ]
  },
  {
   "cell_type": "code",
   "execution_count": null,
   "id": "51c0d80a-1cfe-4965-b62e-18e2051f54dc",
   "metadata": {},
   "outputs": [],
   "source": []
  },
  {
   "cell_type": "code",
   "execution_count": null,
   "id": "7a7c2056-cdc6-418a-bc3c-0740a1e439f9",
   "metadata": {},
   "outputs": [],
   "source": []
  },
  {
   "cell_type": "code",
   "execution_count": 13,
   "id": "16ff3ab9-cb76-4a33-b7a6-dd1667abd9ef",
   "metadata": {},
   "outputs": [
    {
     "data": {
      "text/plain": [
       "{'trades': [{'id': '134',\n",
       "   'instrument': 'EUR_USD',\n",
       "   'price': '1.15899',\n",
       "   'openTime': '2021-10-15T00:00:02.316098824Z',\n",
       "   'initialUnits': '-10000',\n",
       "   'initialMarginRequired': '231.8120',\n",
       "   'state': 'OPEN',\n",
       "   'currentUnits': '-10000',\n",
       "   'realizedPL': '0.0000',\n",
       "   'financing': '0.0000',\n",
       "   'dividendAdjustment': '0.0000',\n",
       "   'unrealizedPL': '-8.2000',\n",
       "   'marginUsed': '231.9480',\n",
       "   'takeProfitOrder': {'id': '135',\n",
       "    'createTime': '2021-10-15T00:00:02.316098824Z',\n",
       "    'type': 'TAKE_PROFIT',\n",
       "    'tradeID': '134',\n",
       "    'price': '1.15712',\n",
       "    'timeInForce': 'GTC',\n",
       "    'triggerCondition': 'DEFAULT',\n",
       "    'state': 'PENDING'},\n",
       "   'stopLossOrder': {'id': '136',\n",
       "    'createTime': '2021-10-15T00:00:02.316098824Z',\n",
       "    'type': 'STOP_LOSS',\n",
       "    'tradeID': '134',\n",
       "    'price': '1.16212',\n",
       "    'timeInForce': 'GTC',\n",
       "    'triggerCondition': 'DEFAULT',\n",
       "    'triggerMode': 'TOP_OF_BOOK',\n",
       "    'state': 'PENDING'}}],\n",
       " 'lastTransactionID': '136'}"
      ]
     },
     "execution_count": 13,
     "metadata": {},
     "output_type": "execute_result"
    }
   ],
   "source": [
    "ot_r = trades.OpenTrades(accountID=oanda_demo_headers['id'])\n",
    "open_trades = oanda_context.request(ot_r)\n",
    "open_trades"
   ]
  },
  {
   "cell_type": "code",
   "execution_count": 19,
   "id": "43d2d99e-42c3-4700-b301-9904d6f69d7b",
   "metadata": {},
   "outputs": [
    {
     "data": {
      "text/plain": [
       "Timestamp('2021-10-15 01:28:06.489955+0000', tz='UTC')"
      ]
     },
     "execution_count": 19,
     "metadata": {},
     "output_type": "execute_result"
    }
   ],
   "source": [
    "pd.Timestamp.utcnow()"
   ]
  },
  {
   "cell_type": "code",
   "execution_count": 18,
   "id": "82ff5aaa-4c84-41d5-984d-a16aba45e339",
   "metadata": {},
   "outputs": [
    {
     "data": {
      "text/plain": [
       "Timestamp('2021-10-15 00:00:02.316098824+0000', tz='UTC')"
      ]
     },
     "execution_count": 18,
     "metadata": {},
     "output_type": "execute_result"
    }
   ],
   "source": [
    "pd.to_datetime(trade['openTime'], utc=True)"
   ]
  },
  {
   "cell_type": "code",
   "execution_count": 21,
   "id": "d8164c8d-d2ac-48a7-8935-7d1cb29ea3c5",
   "metadata": {},
   "outputs": [
    {
     "data": {
      "text/plain": [
       "Timedelta('0 days 01:28:30.817525176')"
      ]
     },
     "execution_count": 21,
     "metadata": {},
     "output_type": "execute_result"
    }
   ],
   "source": [
    "(pd.Timestamp.utcnow() - pd.to_datetime(trade['openTime'], utc=True))"
   ]
  },
  {
   "cell_type": "code",
   "execution_count": 22,
   "id": "01417afb-5820-4f10-a075-c59da3b9fa8a",
   "metadata": {},
   "outputs": [
    {
     "data": {
      "text/plain": [
       "1.5027777777777778"
      ]
     },
     "execution_count": 22,
     "metadata": {},
     "output_type": "execute_result"
    }
   ],
   "source": [
    "trade = open_trades['trades'][0]\n",
    "elapsed = (pd.Timestamp.utcnow() - pd.to_datetime(trade['openTime'], utc=True)).seconds\n",
    "elapsed / 60 / 60"
   ]
  },
  {
   "cell_type": "code",
   "execution_count": null,
   "id": "27bf78c0-3103-4bac-9556-881edacd64ff",
   "metadata": {},
   "outputs": [],
   "source": []
  },
  {
   "cell_type": "code",
   "execution_count": 34,
   "id": "3881c150-47cd-43d7-94b0-2df69659564c",
   "metadata": {},
   "outputs": [
    {
     "data": {
      "text/plain": [
       "{'orderCreateTransaction': {'id': '79',\n",
       "  'accountID': '101-001-20050760-001',\n",
       "  'userID': 20050760,\n",
       "  'batchID': '79',\n",
       "  'requestID': '78908950755942279',\n",
       "  'time': '2021-10-06T03:25:33.409349310Z',\n",
       "  'type': 'MARKET_ORDER',\n",
       "  'instrument': 'EUR_USD',\n",
       "  'units': '-10000',\n",
       "  'timeInForce': 'FOK',\n",
       "  'positionFill': 'REDUCE_ONLY',\n",
       "  'reason': 'TRADE_CLOSE',\n",
       "  'tradeClose': {'units': 'ALL', 'tradeID': '75'}},\n",
       " 'orderFillTransaction': {'id': '80',\n",
       "  'accountID': '101-001-20050760-001',\n",
       "  'userID': 20050760,\n",
       "  'batchID': '79',\n",
       "  'requestID': '78908950755942279',\n",
       "  'time': '2021-10-06T03:25:33.409349310Z',\n",
       "  'type': 'ORDER_FILL',\n",
       "  'orderID': '79',\n",
       "  'instrument': 'EUR_USD',\n",
       "  'units': '-10000',\n",
       "  'requestedUnits': '-10000',\n",
       "  'price': '1.15934',\n",
       "  'pl': '-19.1000',\n",
       "  'quotePL': '-19.10000',\n",
       "  'financing': '0.0000',\n",
       "  'baseFinancing': '0.00000000000000',\n",
       "  'commission': '0.0000',\n",
       "  'accountBalance': '99920.3571',\n",
       "  'gainQuoteHomeConversionFactor': '1',\n",
       "  'lossQuoteHomeConversionFactor': '1',\n",
       "  'guaranteedExecutionFee': '0.0000',\n",
       "  'quoteGuaranteedExecutionFee': '0',\n",
       "  'halfSpreadCost': '0.7000',\n",
       "  'fullVWAP': '1.15934',\n",
       "  'reason': 'MARKET_ORDER_TRADE_CLOSE',\n",
       "  'tradesClosed': [{'tradeID': '75',\n",
       "    'units': '-10000',\n",
       "    'realizedPL': '-19.1000',\n",
       "    'financing': '0.0000',\n",
       "    'baseFinancing': '0.00000000000000',\n",
       "    'price': '1.15934',\n",
       "    'guaranteedExecutionFee': '0.0000',\n",
       "    'quoteGuaranteedExecutionFee': '0',\n",
       "    'halfSpreadCost': '0.7000'}],\n",
       "  'fullPrice': {'closeoutBid': '1.15934',\n",
       "   'closeoutAsk': '1.15948',\n",
       "   'timestamp': '2021-10-06T03:25:32.479954496Z',\n",
       "   'bids': [{'price': '1.15934', 'liquidity': '10000000'}],\n",
       "   'asks': [{'price': '1.15948', 'liquidity': '10000000'}]},\n",
       "  'homeConversionFactors': {'gainQuoteHome': {'factor': '1'},\n",
       "   'lossQuoteHome': {'factor': '1'},\n",
       "   'gainBaseHome': {'factor': '1.15361295'},\n",
       "   'lossBaseHome': {'factor': '1.16520705'}}},\n",
       " 'relatedTransactionIDs': ['79', '80', '81', '82'],\n",
       " 'lastTransactionID': '82'}"
      ]
     },
     "execution_count": 34,
     "metadata": {},
     "output_type": "execute_result"
    }
   ],
   "source": [
    "r = trades.TradeClose(accountID=oanda_demo_headers['id'], tradeID=trade['id'])\n",
    "oanda_context.request(r)\n",
    "r.response"
   ]
  },
  {
   "cell_type": "code",
   "execution_count": 14,
   "id": "230b702c-b04c-4a6c-bb57-09cc5a998a07",
   "metadata": {},
   "outputs": [
    {
     "data": {
      "text/plain": [
       "[{'instrument': 'EUR_USD',\n",
       "  'long': {'units': '10000',\n",
       "   'averagePrice': '1.16125',\n",
       "   'pl': '-60.0000',\n",
       "   'resettablePL': '-60.0000',\n",
       "   'financing': '-0.5429',\n",
       "   'dividendAdjustment': '0.0000',\n",
       "   'guaranteedExecutionFees': '0.0000',\n",
       "   'tradeIDs': ['75'],\n",
       "   'unrealizedPL': '-16.6000'},\n",
       "  'short': {'units': '0',\n",
       "   'pl': '0.0000',\n",
       "   'resettablePL': '0.0000',\n",
       "   'financing': '0.0000',\n",
       "   'dividendAdjustment': '0.0000',\n",
       "   'guaranteedExecutionFees': '0.0000',\n",
       "   'unrealizedPL': '0.0000'},\n",
       "  'pl': '-60.0000',\n",
       "  'resettablePL': '-60.0000',\n",
       "  'financing': '-0.5429',\n",
       "  'commission': '0.0000',\n",
       "  'dividendAdjustment': '0.0000',\n",
       "  'guaranteedExecutionFees': '0.0000',\n",
       "  'unrealizedPL': '-16.6000',\n",
       "  'marginUsed': '231.9360'}]"
      ]
     },
     "execution_count": 14,
     "metadata": {},
     "output_type": "execute_result"
    }
   ],
   "source": [
    "r = positions.PositionList(accountID=oanda_demo_headers['id'])\n",
    "oanda_context.request(r)\n",
    "open_positions = r.response['positions']\n",
    "open_positions"
   ]
  },
  {
   "cell_type": "code",
   "execution_count": null,
   "id": "0e78d49f-42ba-4833-a500-1f16cb45c0bd",
   "metadata": {},
   "outputs": [],
   "source": []
  },
  {
   "cell_type": "code",
   "execution_count": null,
   "id": "35443998-7718-4e65-b4b7-c9f1de246fc7",
   "metadata": {},
   "outputs": [],
   "source": []
  },
  {
   "cell_type": "markdown",
   "id": "f1816ee5-9264-46ef-9cb9-e734b01212f2",
   "metadata": {},
   "source": [
    "# Get Duration and Check is Accurate"
   ]
  },
  {
   "cell_type": "code",
   "execution_count": 68,
   "id": "30ae0836-69e6-408c-915a-4c561b0131f3",
   "metadata": {},
   "outputs": [],
   "source": [
    "elapsed = (pd.to_datetime(trade['openTime'], utc=True)-pd.Timestamp.utcnow()).seconds"
   ]
  },
  {
   "cell_type": "code",
   "execution_count": 108,
   "id": "af965042-dcc8-45e0-aceb-fd8b2536bc07",
   "metadata": {},
   "outputs": [
    {
     "data": {
      "text/plain": [
       "[{'instrument': 'EUR_USD',\n",
       "  'long': {'units': '0',\n",
       "   'pl': '-47.0000',\n",
       "   'resettablePL': '-47.0000',\n",
       "   'financing': '0.0000',\n",
       "   'dividendAdjustment': '0.0000',\n",
       "   'guaranteedExecutionFees': '0.0000',\n",
       "   'unrealizedPL': '0.0000'},\n",
       "  'short': {'units': '0',\n",
       "   'pl': '0.0000',\n",
       "   'resettablePL': '0.0000',\n",
       "   'financing': '0.0000',\n",
       "   'dividendAdjustment': '0.0000',\n",
       "   'guaranteedExecutionFees': '0.0000',\n",
       "   'unrealizedPL': '0.0000'},\n",
       "  'pl': '-47.0000',\n",
       "  'resettablePL': '-47.0000',\n",
       "  'financing': '0.0000',\n",
       "  'commission': '0.0000',\n",
       "  'dividendAdjustment': '0.0000',\n",
       "  'guaranteedExecutionFees': '0.0000',\n",
       "  'unrealizedPL': '0.0000'}]"
      ]
     },
     "execution_count": 108,
     "metadata": {},
     "output_type": "execute_result"
    }
   ],
   "source": [
    "r = positions.PositionList(accountID=oanda_demo_headers['id'])\n",
    "ctx.request(r)\n",
    "open_positions = r.response['positions']\n",
    "open_positions"
   ]
  },
  {
   "cell_type": "code",
   "execution_count": 64,
   "id": "7c9f96d1-74d0-444d-9e91-0c966c719804",
   "metadata": {},
   "outputs": [
    {
     "data": {
      "text/plain": [
       "32219"
      ]
     },
     "execution_count": 64,
     "metadata": {},
     "output_type": "execute_result"
    }
   ],
   "source": [
    "\n",
    "elapsed = (pd.to_datetime(open_positions[0]['openTime'], utc=True)-pd.Timestamp.utcnow()).seconds"
   ]
  },
  {
   "cell_type": "code",
   "execution_count": 38,
   "id": "b3547147-622a-4fa2-a98d-f957acfc1818",
   "metadata": {},
   "outputs": [
    {
     "name": "stdout",
     "output_type": "stream",
     "text": [
      "{'positions': [{'instrument': 'EUR_USD', 'long': {'units': '10000', 'averagePrice': '1.17932', 'pl': '0.0000', 'resettablePL': '0.0000', 'financing': '0.0000', 'dividendAdjustment': '0.0000', 'guaranteedExecutionFees': '0.0000', 'tradeIDs': ['9'], 'unrealizedPL': '-12.9000'}, 'short': {'units': '0', 'pl': '0.0000', 'resettablePL': '0.0000', 'financing': '0.0000', 'dividendAdjustment': '0.0000', 'guaranteedExecutionFees': '0.0000', 'unrealizedPL': '0.0000'}, 'pl': '0.0000', 'resettablePL': '0.0000', 'financing': '0.0000', 'commission': '0.0000', 'dividendAdjustment': '0.0000', 'guaranteedExecutionFees': '0.0000', 'unrealizedPL': '-12.9000', 'marginUsed': '235.6200'}], 'lastTransactionID': '13'}\n"
     ]
    }
   ],
   "source": [
    "import oandapyV20.endpoints.positions as positions\n",
    "r = positions.PositionList(accountID=oanda_demo_headers['id'])\n",
    "ctx.request(r)\n",
    "print(r.response)"
   ]
  },
  {
   "cell_type": "code",
   "execution_count": 55,
   "id": "a54a5b1c-e3e3-4096-951e-acc575459041",
   "metadata": {},
   "outputs": [
    {
     "name": "stdout",
     "output_type": "stream",
     "text": [
      "{'position': {'instrument': 'EUR_USD', 'long': {'units': '10000', 'averagePrice': '1.17932', 'pl': '0.0000', 'resettablePL': '0.0000', 'financing': '0.0000', 'dividendAdjustment': '0.0000', 'guaranteedExecutionFees': '0.0000', 'tradeIDs': ['9'], 'unrealizedPL': '-16.2000'}, 'short': {'units': '0', 'pl': '0.0000', 'resettablePL': '0.0000', 'financing': '0.0000', 'dividendAdjustment': '0.0000', 'guaranteedExecutionFees': '0.0000', 'unrealizedPL': '0.0000'}, 'pl': '0.0000', 'resettablePL': '0.0000', 'financing': '0.0000', 'commission': '0.0000', 'dividendAdjustment': '0.0000', 'guaranteedExecutionFees': '0.0000', 'unrealizedPL': '-16.2000', 'marginUsed': '235.5520'}, 'lastTransactionID': '13'}\n"
     ]
    }
   ],
   "source": [
    "r = positions.PositionDetails(accountID=oanda_demo_headers['id'], instrument='EUR_USD')\n",
    "ctx.request(r)\n",
    "print(r.response)"
   ]
  },
  {
   "cell_type": "code",
   "execution_count": 51,
   "id": "101ef5ac-41a4-4a35-8bbf-e6321a46e92b",
   "metadata": {},
   "outputs": [
    {
     "data": {
      "text/plain": [
       "[{'instrument': 'EUR_USD',\n",
       "  'long': {'units': '10000',\n",
       "   'averagePrice': '1.17932',\n",
       "   'pl': '0.0000',\n",
       "   'resettablePL': '0.0000',\n",
       "   'financing': '0.0000',\n",
       "   'dividendAdjustment': '0.0000',\n",
       "   'guaranteedExecutionFees': '0.0000',\n",
       "   'tradeIDs': ['9'],\n",
       "   'unrealizedPL': '-12.9000'},\n",
       "  'short': {'units': '0',\n",
       "   'pl': '0.0000',\n",
       "   'resettablePL': '0.0000',\n",
       "   'financing': '0.0000',\n",
       "   'dividendAdjustment': '0.0000',\n",
       "   'guaranteedExecutionFees': '0.0000',\n",
       "   'unrealizedPL': '0.0000'},\n",
       "  'pl': '0.0000',\n",
       "  'resettablePL': '0.0000',\n",
       "  'financing': '0.0000',\n",
       "  'commission': '0.0000',\n",
       "  'dividendAdjustment': '0.0000',\n",
       "  'guaranteedExecutionFees': '0.0000',\n",
       "  'unrealizedPL': '-12.9000',\n",
       "  'marginUsed': '235.6200'}]"
      ]
     },
     "execution_count": 51,
     "metadata": {},
     "output_type": "execute_result"
    }
   ],
   "source": [
    "r.response['positions']"
   ]
  },
  {
   "cell_type": "code",
   "execution_count": null,
   "id": "d620206b-0fa7-4ef1-84f4-e0ce1f089524",
   "metadata": {},
   "outputs": [],
   "source": [
    "now = datetime.utcnow()\n",
    "gtd_time = (now + timedelta(seconds=MAX_DURATION)).strftime(\"%Y-%m-%dT%H:%M:%SZ\")\n"
   ]
  },
  {
   "cell_type": "code",
   "execution_count": 48,
   "id": "9fa475ee-fec9-4959-89be-26a6294362a4",
   "metadata": {},
   "outputs": [
    {
     "data": {
      "text/plain": [
       "'2021-08-16T23:53:39Z'"
      ]
     },
     "execution_count": 48,
     "metadata": {},
     "output_type": "execute_result"
    }
   ],
   "source": [
    "import calendar\n",
    "from datetime import datetime, timedelta\n",
    "\n",
    "MAX_DURATION = 21600\n",
    "now = datetime.utcnow()\n",
    "gtd_time = (now + timedelta(seconds=MAX_DURATION)).strftime(\"%Y-%m-%dT%H:%M:%SZ\")"
   ]
  },
  {
   "cell_type": "code",
   "execution_count": null,
   "id": "2cdb52ed-147d-48b5-84c4-a025d2e8f7f6",
   "metadata": {},
   "outputs": [],
   "source": [
    "transactions.TransactionsSinceID(accountID, params=None)"
   ]
  },
  {
   "cell_type": "code",
   "execution_count": null,
   "id": "1f4c66ab-5a2b-48bd-bbae-c99c69db25a7",
   "metadata": {},
   "outputs": [],
   "source": []
  },
  {
   "cell_type": "code",
   "execution_count": null,
   "id": "5a2e6552-c132-429a-b5b7-0702014bebd8",
   "metadata": {},
   "outputs": [],
   "source": []
  },
  {
   "cell_type": "code",
   "execution_count": null,
   "id": "10f37a78-5ab8-4275-b689-5827a0fee15c",
   "metadata": {},
   "outputs": [],
   "source": []
  },
  {
   "cell_type": "code",
   "execution_count": null,
   "id": "3d0e7c6a-6c32-4e3a-924c-cefbb9303da0",
   "metadata": {},
   "outputs": [],
   "source": []
  },
  {
   "cell_type": "code",
   "execution_count": 33,
   "id": "e6922edc-173c-4dff-803c-0ed820ddb953",
   "metadata": {},
   "outputs": [
    {
     "name": "stdout",
     "output_type": "stream",
     "text": [
      "Response:\n",
      " {\n",
      "  \"orders\": [\n",
      "    {\n",
      "      \"id\": \"11\",\n",
      "      \"createTime\": \"2021-08-16T03:10:42.549364495Z\",\n",
      "      \"type\": \"STOP_LOSS\",\n",
      "      \"tradeID\": \"9\",\n",
      "      \"price\": \"1.17000\",\n",
      "      \"timeInForce\": \"GTC\",\n",
      "      \"triggerCondition\": \"DEFAULT\",\n",
      "      \"triggerMode\": \"TOP_OF_BOOK\",\n",
      "      \"state\": \"PENDING\"\n",
      "    },\n",
      "    {\n",
      "      \"id\": \"10\",\n",
      "      \"createTime\": \"2021-08-16T03:10:42.549364495Z\",\n",
      "      \"type\": \"TAKE_PROFIT\",\n",
      "      \"tradeID\": \"9\",\n",
      "      \"price\": \"1.20000\",\n",
      "      \"timeInForce\": \"GTC\",\n",
      "      \"triggerCondition\": \"DEFAULT\",\n",
      "      \"state\": \"PENDING\"\n",
      "    }\n",
      "  ],\n",
      "  \"lastTransactionID\": \"11\"\n",
      "}\n"
     ]
    }
   ],
   "source": [
    "r = orders.OrderCancel(accountID=oanda_demo_headers['id'], orderID=8)\n",
    "ctx.request(r)\n",
    "print(r.response)\n",
    "\n",
    "r = orders.OrdersPending(accountID=oanda_demo_headers['id'])\n",
    "rv = ctx.request(r)\n",
    "print(\"Response:\\n\", json.dumps(rv, indent=2))"
   ]
  },
  {
   "cell_type": "code",
   "execution_count": null,
   "id": "bb1c428e-d475-4f05-85ac-bd4c33943e1e",
   "metadata": {},
   "outputs": [],
   "source": []
  },
  {
   "cell_type": "code",
   "execution_count": null,
   "id": "34a02a61-8507-4c04-81a8-51effb40b3ae",
   "metadata": {},
   "outputs": [],
   "source": []
  },
  {
   "cell_type": "code",
   "execution_count": 29,
   "id": "968593ff-91e8-48dc-97f5-74c1a3470af7",
   "metadata": {},
   "outputs": [
    {
     "name": "stdout",
     "output_type": "stream",
     "text": [
      "{'account': {'guaranteedStopLossOrderMode': 'DISABLED', 'hedgingEnabled': False, 'id': '101-001-20050760-001', 'createdTime': '2021-07-21T19:23:32.440141396Z', 'currency': 'USD', 'createdByUserID': 20050760, 'alias': 'Primary', 'marginRate': '0.02', 'lastTransactionID': '11', 'balance': '100000.0000', 'openTradeCount': 1, 'openPositionCount': 1, 'pendingOrderCount': 2, 'pl': '0.0000', 'resettablePL': '0.0000', 'resettablePLTime': '0', 'financing': '0.0000', 'commission': '0.0000', 'dividendAdjustment': '0', 'guaranteedExecutionFees': '0.0000', 'orders': [{'id': '10', 'createTime': '2021-08-16T03:10:42.549364495Z', 'type': 'TAKE_PROFIT', 'tradeID': '9', 'price': '1.20000', 'timeInForce': 'GTC', 'triggerCondition': 'DEFAULT', 'state': 'PENDING'}, {'id': '11', 'createTime': '2021-08-16T03:10:42.549364495Z', 'type': 'STOP_LOSS', 'tradeID': '9', 'price': '1.17000', 'timeInForce': 'GTC', 'triggerCondition': 'DEFAULT', 'triggerMode': 'TOP_OF_BOOK', 'state': 'PENDING'}], 'positions': [{'instrument': 'EUR_USD', 'long': {'units': '10000', 'averagePrice': '1.17932', 'pl': '0.0000', 'resettablePL': '0.0000', 'financing': '0.0000', 'dividendAdjustment': '0.0000', 'guaranteedExecutionFees': '0.0000', 'tradeIDs': ['9'], 'unrealizedPL': '-9.7000'}, 'short': {'units': '0', 'pl': '0.0000', 'resettablePL': '0.0000', 'financing': '0.0000', 'dividendAdjustment': '0.0000', 'guaranteedExecutionFees': '0.0000', 'unrealizedPL': '0.0000'}, 'pl': '0.0000', 'resettablePL': '0.0000', 'financing': '0.0000', 'commission': '0.0000', 'dividendAdjustment': '0.0000', 'guaranteedExecutionFees': '0.0000', 'unrealizedPL': '-9.7000', 'marginUsed': '235.6840'}], 'trades': [{'id': '9', 'instrument': 'EUR_USD', 'price': '1.17932', 'openTime': '2021-08-16T03:10:42.549364495Z', 'initialUnits': '10000', 'initialMarginRequired': '235.8520', 'state': 'OPEN', 'currentUnits': '10000', 'realizedPL': '0.0000', 'financing': '0.0000', 'dividendAdjustment': '0.0000', 'takeProfitOrderID': '10', 'stopLossOrderID': '11', 'unrealizedPL': '-9.7000', 'marginUsed': '235.6840'}], 'unrealizedPL': '-9.7000', 'NAV': '99990.3000', 'marginUsed': '235.6840', 'marginAvailable': '99754.6160', 'positionValue': '11784.2000', 'marginCloseoutUnrealizedPL': '-9.0000', 'marginCloseoutNAV': '99991.0000', 'marginCloseoutMarginUsed': '235.6840', 'marginCloseoutPositionValue': '11784.2000', 'marginCloseoutPercent': '0.00118', 'withdrawalLimit': '99754.6160', 'marginCallMarginUsed': '235.6840', 'marginCallPercent': '0.00236'}, 'lastTransactionID': '11'}\n"
     ]
    }
   ],
   "source": [
    "import oandapyV20.endpoints.accounts as accounts\n",
    "r = accounts.AccountDetails(oanda_demo_headers['id'])\n",
    "ctx.request(r)\n",
    "print(r.response)"
   ]
  },
  {
   "cell_type": "code",
   "execution_count": 30,
   "id": "107d6085-afca-44e1-918e-47d1d3922f66",
   "metadata": {},
   "outputs": [
    {
     "data": {
      "text/plain": [
       "dict_keys(['guaranteedStopLossOrderMode', 'hedgingEnabled', 'id', 'createdTime', 'currency', 'createdByUserID', 'alias', 'marginRate', 'lastTransactionID', 'balance', 'openTradeCount', 'openPositionCount', 'pendingOrderCount', 'pl', 'resettablePL', 'resettablePLTime', 'financing', 'commission', 'dividendAdjustment', 'guaranteedExecutionFees', 'orders', 'positions', 'trades', 'unrealizedPL', 'NAV', 'marginUsed', 'marginAvailable', 'positionValue', 'marginCloseoutUnrealizedPL', 'marginCloseoutNAV', 'marginCloseoutMarginUsed', 'marginCloseoutPositionValue', 'marginCloseoutPercent', 'withdrawalLimit', 'marginCallMarginUsed', 'marginCallPercent'])"
      ]
     },
     "execution_count": 30,
     "metadata": {},
     "output_type": "execute_result"
    }
   ],
   "source": [
    "r.response['account'].keys()"
   ]
  },
  {
   "cell_type": "code",
   "execution_count": 32,
   "id": "ef61bcd9-93ff-407d-b65c-c78a5c7a4882",
   "metadata": {},
   "outputs": [
    {
     "data": {
      "text/plain": [
       "100000.0"
      ]
     },
     "execution_count": 32,
     "metadata": {},
     "output_type": "execute_result"
    }
   ],
   "source": [
    "float(r.response['account']['balance'])"
   ]
  },
  {
   "cell_type": "code",
   "execution_count": null,
   "id": "d42620cd-0276-4de8-be7f-35c29ffce121",
   "metadata": {},
   "outputs": [],
   "source": []
  }
 ],
 "metadata": {
  "kernelspec": {
   "display_name": "Python 3",
   "language": "python",
   "name": "python3"
  },
  "language_info": {
   "codemirror_mode": {
    "name": "ipython",
    "version": 3
   },
   "file_extension": ".py",
   "mimetype": "text/x-python",
   "name": "python",
   "nbconvert_exporter": "python",
   "pygments_lexer": "ipython3",
   "version": "3.8.8"
  }
 },
 "nbformat": 4,
 "nbformat_minor": 5
}
