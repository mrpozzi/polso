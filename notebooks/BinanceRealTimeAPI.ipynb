{
 "cells": [
  {
   "cell_type": "code",
   "execution_count": 1,
   "id": "8ffba7c7-e397-4adf-a817-b1f1523e1844",
   "metadata": {},
   "outputs": [],
   "source": [
    "%matplotlib inline\n",
    "%load_ext autoreload\n",
    "%autoreload 2\n",
    "\n",
    "import pandas as pd\n",
    "import numpy as np\n",
    "from datetime import datetime, timezone\n",
    "\n",
    "\n",
    "import matplotlib.pyplot as plt\n",
    "plt.style.use('fivethirtyeight')\n",
    "import json\n",
    "\n",
    "from binance.client import Client\n",
    "\n",
    "from datetime import datetime, timezone, timedelta"
   ]
  },
  {
   "cell_type": "code",
   "execution_count": 2,
   "id": "ba555050-e8c5-4ca3-890d-7f5b83702520",
   "metadata": {},
   "outputs": [],
   "source": [
    "import sys\n",
    "from os.path import expanduser\n",
    "sys.path.append(\"{0}/repos/imprint/\".format(expanduser(\"~\")))"
   ]
  },
  {
   "cell_type": "code",
   "execution_count": 3,
   "id": "6117af14-70f7-4aa7-a6cd-f746880766bb",
   "metadata": {},
   "outputs": [],
   "source": [
    "json_data=open(\"/Users/lucapozzi/binance_credentials.json\").read()\n",
    "headers = json.loads(json_data)\n",
    "binance_client = Client(headers['key'], headers['secret'], tld='us')"
   ]
  },
  {
   "cell_type": "code",
   "execution_count": 8,
   "id": "12a5ce82-bebc-4f49-8ed3-897010018d6c",
   "metadata": {},
   "outputs": [
    {
     "data": {
      "text/plain": [
       "['ADAUSDT', 'ADAUSDC']"
      ]
     },
     "execution_count": 8,
     "metadata": {},
     "output_type": "execute_result"
    }
   ],
   "source": [
    "import unicorn_binance_rest_api\n",
    "# pip install unicorn-binance-rest-api\n",
    "\n",
    "binance_rest_client = unicorn_binance_rest_api.BinanceRestApiManager(headers['key'], headers['secret'])\n",
    "\n",
    "markets = []\n",
    "data = binance_rest_client.get_all_tickers()\n",
    "for item in data:\n",
    "    markets.append(item['symbol'])\n",
    "    \n",
    "[market for market in markets if \"USDC\" in market]\n",
    "# [market for market in markets if \"ADAUS\" in market]"
   ]
  },
  {
   "cell_type": "code",
   "execution_count": null,
   "id": "f883ac51-bd0e-4bcb-8768-a3458dc81fec",
   "metadata": {},
   "outputs": [],
   "source": []
  },
  {
   "cell_type": "code",
   "execution_count": 47,
   "id": "f4a1c29b-bae3-4e6b-8641-de42a1318fe2",
   "metadata": {},
   "outputs": [
    {
     "data": {
      "text/plain": [
       "UUID('276bc089-0e6f-45a1-b34f-3eca4ccb9fdd')"
      ]
     },
     "execution_count": 47,
     "metadata": {},
     "output_type": "execute_result"
    }
   ],
   "source": [
    "from unicorn_binance_websocket_api.unicorn_binance_websocket_api_manager import BinanceWebSocketApiManager\n",
    "\n",
    "binance_websocket_api_manager = BinanceWebSocketApiManager(exchange=\"binance.com\")\n",
    "binance_websocket_api_manager.create_stream([#'trade', \n",
    "                                             'kline_15m'], ['btcusdt', 'bnbbtc', 'ethbtc'], output=\"UnicornFy\")\n"
   ]
  },
  {
   "cell_type": "code",
   "execution_count": 49,
   "id": "2a945638-e2dd-446c-86bf-c8fa649706d0",
   "metadata": {},
   "outputs": [
    {
     "data": {
      "text/plain": [
       "{'stream_type': 'ethbtc@kline_15m',\n",
       " 'event_type': 'kline',\n",
       " 'event_time': 1626385381631,\n",
       " 'symbol': 'ETHBTC',\n",
       " 'kline': {'kline_start_time': 1626384600000,\n",
       "  'kline_close_time': 1626385499999,\n",
       "  'symbol': 'ETHBTC',\n",
       "  'interval': '15m',\n",
       "  'first_trade_id': False,\n",
       "  'last_trade_id': False,\n",
       "  'open_price': '0.06070100',\n",
       "  'close_price': '0.06065200',\n",
       "  'high_price': '0.06075200',\n",
       "  'low_price': '0.06064100',\n",
       "  'base_volume': '143.34700000',\n",
       "  'number_of_trades': 445,\n",
       "  'is_closed': False,\n",
       "  'quote': '8.70048705',\n",
       "  'taker_by_base_asset_volume': '69.17600000',\n",
       "  'taker_by_quote_asset_volume': '4.19865989',\n",
       "  'ignore': '0'},\n",
       " 'unicorn_fied': ['binance.com', '0.11.0']}"
      ]
     },
     "execution_count": 49,
     "metadata": {},
     "output_type": "execute_result"
    }
   ],
   "source": [
    "oldest_stream_data_from_stream_buffer = \\\n",
    "binance_websocket_api_manager.pop_stream_data_from_stream_buffer()\n",
    "oldest_stream_data_from_stream_buffer"
   ]
  },
  {
   "cell_type": "code",
   "execution_count": 46,
   "id": "a1e3f204-9ed3-4555-9b8b-565e3a0b6ff2",
   "metadata": {},
   "outputs": [
    {
     "data": {
      "text/plain": [
       "True"
      ]
     },
     "execution_count": 46,
     "metadata": {},
     "output_type": "execute_result"
    }
   ],
   "source": [
    "\"result\" not in oldest_stream_data_from_stream_buffer"
   ]
  },
  {
   "cell_type": "code",
   "execution_count": 6,
   "id": "e1f6ca8f-3817-406d-a75a-710bad426ef3",
   "metadata": {},
   "outputs": [
    {
     "name": "stdout",
     "output_type": "stream",
     "text": [
      "2021-07-15 22:04:16\n",
      "2021-07-15 22:04:19\n"
     ]
    }
   ],
   "source": [
    "import pandas as pd\n",
    "from datetime import datetime, timezone\n",
    "def _process_time_stamp(time_stamp):\n",
    "    return pd.to_datetime(datetime.fromtimestamp(time_stamp / 1000, tz=timezone.utc).strftime('%Y-%m-%d %H:%M:%S'))\n",
    "\n",
    "print(_process_time_stamp(1626386656946))\n",
    "print(_process_time_stamp(1626386659139))"
   ]
  },
  {
   "cell_type": "code",
   "execution_count": null,
   "id": "c26df401-12de-420a-8d50-e9ff1f633c87",
   "metadata": {},
   "outputs": [
    {
     "name": "stdout",
     "output_type": "stream",
     "text": [
      "Let's GO!!!\n",
      "{'stream_type': 'ethusdt@kline_15m', 'event_type': 'kline', 'event_time': 1626386656946, 'symbol': 'ETHUSDT', 'kline': {'kline_start_time': 1626386400000, 'kline_close_time': 1626387299999, 'symbol': 'ETHUSDT', 'interval': '15m', 'first_trade_id': False, 'last_trade_id': False, 'open_price': '1918.28000000', 'close_price': '1918.39000000', 'high_price': '1921.24000000', 'low_price': '1918.08000000', 'base_volume': '1494.07086000', 'number_of_trades': 1546, 'is_closed': False, 'quote': '2868691.93783500', 'taker_by_base_asset_volume': '911.41055000', 'taker_by_quote_asset_volume': '1750099.82160890', 'ignore': '0'}, 'unicorn_fied': ['binance.com', '0.11.0']}\n",
      "{'stream_type': 'ethusdt@kline_15m', 'event_type': 'kline', 'event_time': 1626386659139, 'symbol': 'ETHUSDT', 'kline': {'kline_start_time': 1626386400000, 'kline_close_time': 1626387299999, 'symbol': 'ETHUSDT', 'interval': '15m', 'first_trade_id': False, 'last_trade_id': False, 'open_price': '1918.28000000', 'close_price': '1917.23000000', 'high_price': '1921.24000000', 'low_price': '1917.22000000', 'base_volume': '1524.26050000', 'number_of_trades': 1591, 'is_closed': False, 'quote': '2926585.70693400', 'taker_by_base_asset_volume': '927.01063000', 'taker_by_quote_asset_volume': '1780010.75564750', 'ignore': '0'}, 'unicorn_fied': ['binance.com', '0.11.0']}\n",
      "{'stream_type': 'ethusdt@kline_15m', 'event_type': 'kline', 'event_time': 1626386661701, 'symbol': 'ETHUSDT', 'kline': {'kline_start_time': 1626386400000, 'kline_close_time': 1626387299999, 'symbol': 'ETHUSDT', 'interval': '15m', 'first_trade_id': False, 'last_trade_id': False, 'open_price': '1918.28000000', 'close_price': '1917.00000000', 'high_price': '1921.24000000', 'low_price': '1917.00000000', 'base_volume': '1530.43219000', 'number_of_trades': 1603, 'is_closed': False, 'quote': '2938417.49217750', 'taker_by_base_asset_volume': '930.28362000', 'taker_by_quote_asset_volume': '1786285.11020740', 'ignore': '0'}, 'unicorn_fied': ['binance.com', '0.11.0']}\n",
      "{'stream_type': 'ethusdt@kline_15m', 'event_type': 'kline', 'event_time': 1626386663717, 'symbol': 'ETHUSDT', 'kline': {'kline_start_time': 1626386400000, 'kline_close_time': 1626387299999, 'symbol': 'ETHUSDT', 'interval': '15m', 'first_trade_id': False, 'last_trade_id': False, 'open_price': '1918.28000000', 'close_price': '1916.77000000', 'high_price': '1921.24000000', 'low_price': '1916.47000000', 'base_volume': '1542.66022000', 'number_of_trades': 1617, 'is_closed': False, 'quote': '2961855.32766820', 'taker_by_base_asset_volume': '936.86874000', 'taker_by_quote_asset_volume': '1798906.02150680', 'ignore': '0'}, 'unicorn_fied': ['binance.com', '0.11.0']}\n",
      "{'stream_type': 'ethusdt@kline_15m', 'event_type': 'kline', 'event_time': 1626386665847, 'symbol': 'ETHUSDT', 'kline': {'kline_start_time': 1626386400000, 'kline_close_time': 1626387299999, 'symbol': 'ETHUSDT', 'interval': '15m', 'first_trade_id': False, 'last_trade_id': False, 'open_price': '1918.28000000', 'close_price': '1916.61000000', 'high_price': '1921.24000000', 'low_price': '1916.19000000', 'base_volume': '1570.01891000', 'number_of_trades': 1642, 'is_closed': False, 'quote': '3014293.81572200', 'taker_by_base_asset_volume': '943.14426000', 'taker_by_quote_asset_volume': '1810934.37081740', 'ignore': '0'}, 'unicorn_fied': ['binance.com', '0.11.0']}\n"
     ]
    }
   ],
   "source": [
    "from unicorn_binance_websocket_api.unicorn_binance_websocket_api_manager import BinanceWebSocketApiManager\n",
    "import time\n",
    "\n",
    "binance_websocket_api_manager = BinanceWebSocketApiManager(exchange=\"binance.com\")\n",
    "binance_websocket_api_manager.create_stream(['kline_15m'], ['ethusdt'], output=\"UnicornFy\")\n",
    "\n",
    "print(\"Let's GO!!!\")\n",
    "\n",
    "while True:\n",
    "    stream_data = binance_websocket_api_manager.pop_stream_data_from_stream_buffer()\n",
    "    # \"Warm up the Stream\"?\n",
    "    if stream_data is False:\n",
    "        time.sleep(0.1)\n",
    "    if stream_data and (\"result\" not in stream_data):\n",
    "        kline = stream_data['kline']\n",
    "        if kline['is_closed']:\n",
    "            # Completed kline\n",
    "            print(\"[COMPLETE] {0}\".format(stream_data))\n",
    "        else:\n",
    "            # Process the current price\n",
    "            print(stream_data)"
   ]
  },
  {
   "cell_type": "code",
   "execution_count": 14,
   "id": "48962f22-82ab-4888-b3a2-490bd40829fb",
   "metadata": {},
   "outputs": [
    {
     "data": {
      "text/plain": [
       "{'open_time': Timestamp('2021-07-15 21:30:00'),\n",
       " 'open': 0.060701,\n",
       " 'high': 0.060705,\n",
       " 'low': 0.060671,\n",
       " 'close': 0.060689,\n",
       " 'ohlc4': 0.060691499999999995,\n",
       " 'volume': 15.98,\n",
       " 'close_time': Timestamp('2021-07-15 21:44:59'),\n",
       " 'quote_asset_volume': 0.96982213,\n",
       " 'n_trades': 43,\n",
       " 'taker_buy_base': 13.293,\n",
       " 'taker_buy_quote': 0.80675886}"
      ]
     },
     "execution_count": 14,
     "metadata": {},
     "output_type": "execute_result"
    }
   ],
   "source": [
    "from trading.utils.data_processing import process_candle, process_candle_from_stream\n",
    "process_candle_from_stream(json.loads(oldest_stream_data_from_stream_buffer)['data']['k'])"
   ]
  },
  {
   "cell_type": "code",
   "execution_count": null,
   "id": "96e3ddca-7012-433f-bc1e-79f9ee109845",
   "metadata": {},
   "outputs": [],
   "source": []
  },
  {
   "cell_type": "code",
   "execution_count": null,
   "id": "ce07d9b0-b921-4b1d-8735-468aca38340f",
   "metadata": {},
   "outputs": [],
   "source": []
  },
  {
   "cell_type": "code",
   "execution_count": null,
   "id": "add691db-8c1f-4a2c-853d-071525924e26",
   "metadata": {},
   "outputs": [],
   "source": []
  },
  {
   "cell_type": "code",
   "execution_count": null,
   "id": "2ce15cdc-5041-4790-9073-f9d6d123294b",
   "metadata": {},
   "outputs": [],
   "source": []
  },
  {
   "cell_type": "code",
   "execution_count": null,
   "id": "1b37f409-5d38-4e1a-b397-ae3c39630797",
   "metadata": {},
   "outputs": [
    {
     "name": "stdout",
     "output_type": "stream",
     "text": [
      "2021-07-14 02:51:12\n",
      "Current Price: 0.00927480\n",
      "2021-07-14 02:52:05\n",
      "Current Price: 0.00927750\n",
      "2021-07-14 02:53:03\n",
      "Current Price: 0.00928090\n",
      "2021-07-14 02:53:59\n",
      "Current Price: 0.00927760\n",
      "2021-07-14 02:54:01\n",
      "Current Price: 0.00927480\n",
      "2021-07-14 02:54:06\n",
      "Current Price: 0.00927880\n",
      "2021-07-14 02:54:08\n",
      "Current Price: 0.00927880\n",
      "2021-07-14 02:54:25\n",
      "Current Price: 0.00927750\n"
     ]
    }
   ],
   "source": [
    "from binance import AsyncClient, BinanceSocketManager\n",
    "def _process_time_stamp(time_stamp):\n",
    "    return pd.to_datetime(datetime.fromtimestamp(time_stamp/1000, tz=timezone.utc).strftime('%Y-%m-%d %H:%M:%S'))\n",
    "\n",
    "symbol = 'BNBBTC'\n",
    "\n",
    "async def kline_listener(client):\n",
    "    bm = BinanceSocketManager(client)\n",
    "    res_count = 0\n",
    "    async with bm.kline_socket(symbol=symbol, interval=Client.KLINE_INTERVAL_15MINUTE) as stream:\n",
    "        while True:\n",
    "            res = await stream.recv()\n",
    "            res_count += 1\n",
    "            print(_process_time_stamp(res['E']))\n",
    "            if res['k']['x']:\n",
    "                print(\"Completed kline: {0}\".format(res['k']))\n",
    "            else:\n",
    "                print(\"Current Price: {0}\".format(res['k']['c']))\n",
    "\n",
    "# headers['key'], headers['secret'], tld='us'\n",
    "# client = await AsyncClient.create()\n",
    "# await kline_listener(client)\n",
    "await kline_listener(binance_client)"
   ]
  },
  {
   "cell_type": "code",
   "execution_count": null,
   "id": "e4e67cfe-9b22-45fa-a54d-6c873b6e79c5",
   "metadata": {},
   "outputs": [],
   "source": [
    "\n",
    "1"
   ]
  },
  {
   "cell_type": "code",
   "execution_count": 5,
   "id": "9d69c6bd-23b4-4677-b2f3-6c694f0c2f97",
   "metadata": {},
   "outputs": [
    {
     "data": {
      "text/plain": [
       "'2021-06-24 02:29:59'"
      ]
     },
     "execution_count": 5,
     "metadata": {},
     "output_type": "execute_result"
    }
   ],
   "source": [
    "candle = binance_client.get_klines(symbol='ETHUSDC', interval=Client.KLINE_INTERVAL_15MINUTE)\n",
    "datetime.fromtimestamp(candle[-1][6]/1000, tz=timezone.utc).strftime('%Y-%m-%d %H:%M:%S')\n"
   ]
  },
  {
   "cell_type": "code",
   "execution_count": 46,
   "id": "1033ccaf-8609-4855-8c6e-cf92c92c00f8",
   "metadata": {},
   "outputs": [
    {
     "data": {
      "text/plain": [
       "'2021-06-23 20:29:59'"
      ]
     },
     "execution_count": 46,
     "metadata": {},
     "output_type": "execute_result"
    }
   ],
   "source": [
    "candle = binance_client.get_klines(symbol='ETHUSDC', limit=2, interval=Client.KLINE_INTERVAL_15MINUTE)\n",
    "datetime.fromtimestamp(candle[-2][6]/1000, #tz=timezone.utc\n",
    "                      ).strftime('%Y-%m-%d %H:%M:%S')"
   ]
  },
  {
   "cell_type": "code",
   "execution_count": null,
   "id": "ca25ab8d-5c9a-4bc0-bb12-4e5442913bd8",
   "metadata": {},
   "outputs": [],
   "source": [
    "candle[-1][4]\n",
    "binance_client.get_all_tickers('ETHUSDC')"
   ]
  }
 ],
 "metadata": {
  "kernelspec": {
   "display_name": "Python 3",
   "language": "python",
   "name": "python3"
  },
  "language_info": {
   "codemirror_mode": {
    "name": "ipython",
    "version": 3
   },
   "file_extension": ".py",
   "mimetype": "text/x-python",
   "name": "python",
   "nbconvert_exporter": "python",
   "pygments_lexer": "ipython3",
   "version": "3.8.8"
  }
 },
 "nbformat": 4,
 "nbformat_minor": 5
}
