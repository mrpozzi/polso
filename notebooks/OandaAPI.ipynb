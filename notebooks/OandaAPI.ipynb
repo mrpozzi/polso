{
 "cells": [
  {
   "cell_type": "code",
   "execution_count": 1,
   "id": "8ffba7c7-e397-4adf-a817-b1f1523e1844",
   "metadata": {},
   "outputs": [],
   "source": [
    "%matplotlib inline\n",
    "%load_ext autoreload\n",
    "%autoreload 2\n",
    "\n",
    "import pandas as pd\n",
    "import numpy as np\n",
    "from datetime import datetime, timezone\n",
    "import time\n",
    "\n",
    "import matplotlib.pyplot as plt\n",
    "plt.style.use('fivethirtyeight')\n",
    "import json\n",
    "\n",
    "from binance.client import Client\n",
    "\n",
    "from datetime import datetime, timezone, timedelta"
   ]
  },
  {
   "cell_type": "markdown",
   "id": "c1bbbe1b-29d6-453d-af12-7389a1dce7dd",
   "metadata": {},
   "source": [
    "Profit (GBP) = Pips x Exposure / GBPUSD = 0.002 x 2,000 / 1.5185 = £2.63\n",
    "\n"
   ]
  },
  {
   "cell_type": "code",
   "execution_count": 13,
   "id": "5c54293a-feac-4000-bf51-9f95e25ba064",
   "metadata": {},
   "outputs": [],
   "source": [
    "from oandapyV20 import API\n",
    "import oandapyV20.endpoints.instruments as instruments\n",
    "\n",
    "from os.path import expanduser\n",
    "\n",
    "oanda_headers = json.loads(open(\"{0}/mrpozzi_oanda_token.json\".format(expanduser(\"~\"))).read())\n",
    "oanda_demo_headers = json.loads(open(\"{0}/mrpozzi_oanda_practice_token.json\".format(expanduser(\"~\"))).read())\n",
    "\n",
    "TOKEN = oanda_headers['token']\n",
    "DEMO_TOKEN = oanda_demo_headers['token']\n"
   ]
  },
  {
   "cell_type": "code",
   "execution_count": 14,
   "id": "8366fef7-e75b-45a1-aeff-0d2340c10d83",
   "metadata": {},
   "outputs": [],
   "source": [
    "import sys\n",
    "sys.path.append(\"{0}/repos/imprint/\".format(expanduser(\"~\")))\n",
    "from trading.utils.data_processing import process_oanda_candle\n",
    "from backtest import BATCH_SIZE"
   ]
  },
  {
   "cell_type": "markdown",
   "id": "b1332f90-a152-485a-be25-58d044fe84f5",
   "metadata": {},
   "source": [
    "# Generator"
   ]
  },
  {
   "cell_type": "code",
   "execution_count": 19,
   "id": "399358b7-154d-48b5-a23d-b043935f5df2",
   "metadata": {},
   "outputs": [
    {
     "name": "stderr",
     "output_type": "stream",
     "text": [
      "DEBUG:imprint_trading_bot:processing mode: on_change\n"
     ]
    }
   ],
   "source": [
    "from generators.oanda_candles_generator import OandaCandlesGenerator\n",
    "\n",
    "DEMO = True\n",
    "if DEMO:\n",
    "    credentials = \"{0}/mrpozzi_oanda_practice_token.json\".format(expanduser(\"~\"))\n",
    "else:\n",
    "    credentials = \"{0}/mrpozzi_oanda_token.json\".format(expanduser(\"~\"))\n",
    "\n",
    "candles_generator = OandaCandlesGenerator(\n",
    "    credentials=credentials,\n",
    "    symbol=\"EUR_USD\",\n",
    "    demo_mode=DEMO\n",
    ")"
   ]
  },
  {
   "cell_type": "code",
   "execution_count": 20,
   "id": "7c28e921-1bff-436b-be4b-095acd69aa58",
   "metadata": {},
   "outputs": [
    {
     "data": {
      "text/html": [
       "<div>\n",
       "<style scoped>\n",
       "    .dataframe tbody tr th:only-of-type {\n",
       "        vertical-align: middle;\n",
       "    }\n",
       "\n",
       "    .dataframe tbody tr th {\n",
       "        vertical-align: top;\n",
       "    }\n",
       "\n",
       "    .dataframe thead th {\n",
       "        text-align: right;\n",
       "    }\n",
       "</style>\n",
       "<table border=\"1\" class=\"dataframe\">\n",
       "  <thead>\n",
       "    <tr style=\"text-align: right;\">\n",
       "      <th></th>\n",
       "      <th>close_time</th>\n",
       "      <th>open</th>\n",
       "      <th>high</th>\n",
       "      <th>low</th>\n",
       "      <th>close</th>\n",
       "      <th>ohlc4</th>\n",
       "      <th>volume</th>\n",
       "      <th>price</th>\n",
       "      <th>complete</th>\n",
       "    </tr>\n",
       "  </thead>\n",
       "  <tbody>\n",
       "    <tr>\n",
       "      <th>0</th>\n",
       "      <td>2021-08-05 00:00:00+00:00</td>\n",
       "      <td>1.18383</td>\n",
       "      <td>1.18394</td>\n",
       "      <td>1.18373</td>\n",
       "      <td>1.18394</td>\n",
       "      <td>1.183860</td>\n",
       "      <td>201.0</td>\n",
       "      <td>ask</td>\n",
       "      <td>True</td>\n",
       "    </tr>\n",
       "    <tr>\n",
       "      <th>1</th>\n",
       "      <td>2021-08-05 00:00:00+00:00</td>\n",
       "      <td>1.18367</td>\n",
       "      <td>1.18380</td>\n",
       "      <td>1.18358</td>\n",
       "      <td>1.18380</td>\n",
       "      <td>1.183712</td>\n",
       "      <td>201.0</td>\n",
       "      <td>bid</td>\n",
       "      <td>True</td>\n",
       "    </tr>\n",
       "    <tr>\n",
       "      <th>2</th>\n",
       "      <td>2021-08-05 00:15:00+00:00</td>\n",
       "      <td>1.18393</td>\n",
       "      <td>1.18395</td>\n",
       "      <td>1.18368</td>\n",
       "      <td>1.18369</td>\n",
       "      <td>1.183813</td>\n",
       "      <td>235.0</td>\n",
       "      <td>ask</td>\n",
       "      <td>True</td>\n",
       "    </tr>\n",
       "    <tr>\n",
       "      <th>3</th>\n",
       "      <td>2021-08-05 00:15:00+00:00</td>\n",
       "      <td>1.18379</td>\n",
       "      <td>1.18381</td>\n",
       "      <td>1.18353</td>\n",
       "      <td>1.18354</td>\n",
       "      <td>1.183667</td>\n",
       "      <td>235.0</td>\n",
       "      <td>bid</td>\n",
       "      <td>True</td>\n",
       "    </tr>\n",
       "    <tr>\n",
       "      <th>4</th>\n",
       "      <td>2021-08-05 00:30:00+00:00</td>\n",
       "      <td>1.18370</td>\n",
       "      <td>1.18373</td>\n",
       "      <td>1.18345</td>\n",
       "      <td>1.18357</td>\n",
       "      <td>1.183612</td>\n",
       "      <td>200.0</td>\n",
       "      <td>ask</td>\n",
       "      <td>True</td>\n",
       "    </tr>\n",
       "    <tr>\n",
       "      <th>...</th>\n",
       "      <td>...</td>\n",
       "      <td>...</td>\n",
       "      <td>...</td>\n",
       "      <td>...</td>\n",
       "      <td>...</td>\n",
       "      <td>...</td>\n",
       "      <td>...</td>\n",
       "      <td>...</td>\n",
       "      <td>...</td>\n",
       "    </tr>\n",
       "    <tr>\n",
       "      <th>395</th>\n",
       "      <td>2021-08-09 01:15:00+00:00</td>\n",
       "      <td>1.17518</td>\n",
       "      <td>1.17545</td>\n",
       "      <td>1.17513</td>\n",
       "      <td>1.17541</td>\n",
       "      <td>1.175293</td>\n",
       "      <td>340.0</td>\n",
       "      <td>bid</td>\n",
       "      <td>True</td>\n",
       "    </tr>\n",
       "    <tr>\n",
       "      <th>396</th>\n",
       "      <td>2021-08-09 01:30:00+00:00</td>\n",
       "      <td>1.17554</td>\n",
       "      <td>1.17594</td>\n",
       "      <td>1.17534</td>\n",
       "      <td>1.17586</td>\n",
       "      <td>1.175670</td>\n",
       "      <td>490.0</td>\n",
       "      <td>ask</td>\n",
       "      <td>True</td>\n",
       "    </tr>\n",
       "    <tr>\n",
       "      <th>397</th>\n",
       "      <td>2021-08-09 01:30:00+00:00</td>\n",
       "      <td>1.17539</td>\n",
       "      <td>1.17579</td>\n",
       "      <td>1.17518</td>\n",
       "      <td>1.17571</td>\n",
       "      <td>1.175517</td>\n",
       "      <td>490.0</td>\n",
       "      <td>bid</td>\n",
       "      <td>True</td>\n",
       "    </tr>\n",
       "    <tr>\n",
       "      <th>398</th>\n",
       "      <td>2021-08-09 01:45:00+00:00</td>\n",
       "      <td>1.17588</td>\n",
       "      <td>1.17590</td>\n",
       "      <td>1.17560</td>\n",
       "      <td>1.17562</td>\n",
       "      <td>1.175750</td>\n",
       "      <td>245.0</td>\n",
       "      <td>ask</td>\n",
       "      <td>False</td>\n",
       "    </tr>\n",
       "    <tr>\n",
       "      <th>399</th>\n",
       "      <td>2021-08-09 01:45:00+00:00</td>\n",
       "      <td>1.17573</td>\n",
       "      <td>1.17576</td>\n",
       "      <td>1.17545</td>\n",
       "      <td>1.17547</td>\n",
       "      <td>1.175603</td>\n",
       "      <td>245.0</td>\n",
       "      <td>bid</td>\n",
       "      <td>False</td>\n",
       "    </tr>\n",
       "  </tbody>\n",
       "</table>\n",
       "<p>400 rows × 9 columns</p>\n",
       "</div>"
      ],
      "text/plain": [
       "                   close_time     open     high      low    close     ohlc4  \\\n",
       "0   2021-08-05 00:00:00+00:00  1.18383  1.18394  1.18373  1.18394  1.183860   \n",
       "1   2021-08-05 00:00:00+00:00  1.18367  1.18380  1.18358  1.18380  1.183712   \n",
       "2   2021-08-05 00:15:00+00:00  1.18393  1.18395  1.18368  1.18369  1.183813   \n",
       "3   2021-08-05 00:15:00+00:00  1.18379  1.18381  1.18353  1.18354  1.183667   \n",
       "4   2021-08-05 00:30:00+00:00  1.18370  1.18373  1.18345  1.18357  1.183612   \n",
       "..                        ...      ...      ...      ...      ...       ...   \n",
       "395 2021-08-09 01:15:00+00:00  1.17518  1.17545  1.17513  1.17541  1.175293   \n",
       "396 2021-08-09 01:30:00+00:00  1.17554  1.17594  1.17534  1.17586  1.175670   \n",
       "397 2021-08-09 01:30:00+00:00  1.17539  1.17579  1.17518  1.17571  1.175517   \n",
       "398 2021-08-09 01:45:00+00:00  1.17588  1.17590  1.17560  1.17562  1.175750   \n",
       "399 2021-08-09 01:45:00+00:00  1.17573  1.17576  1.17545  1.17547  1.175603   \n",
       "\n",
       "     volume price  complete  \n",
       "0     201.0   ask      True  \n",
       "1     201.0   bid      True  \n",
       "2     235.0   ask      True  \n",
       "3     235.0   bid      True  \n",
       "4     200.0   ask      True  \n",
       "..      ...   ...       ...  \n",
       "395   340.0   bid      True  \n",
       "396   490.0   ask      True  \n",
       "397   490.0   bid      True  \n",
       "398   245.0   ask     False  \n",
       "399   245.0   bid     False  \n",
       "\n",
       "[400 rows x 9 columns]"
      ]
     },
     "execution_count": 20,
     "metadata": {},
     "output_type": "execute_result"
    }
   ],
   "source": [
    "candles_generator.initial_batch(False)"
   ]
  },
  {
   "cell_type": "code",
   "execution_count": 21,
   "id": "c71f7428-55ad-42c1-abea-e994cc7537de",
   "metadata": {},
   "outputs": [
    {
     "name": "stderr",
     "output_type": "stream",
     "text": [
      "INFO:imprint_trading_bot:mode: on_change change of extremes for EUR_USD, M15\n"
     ]
    },
    {
     "name": "stdout",
     "output_type": "stream",
     "text": [
      "Candle completed: {\"close_time\":{\"0\":1628474400000,\"1\":1628474400000},\"open\":{\"0\":1.17568,\"1\":1.17553},\"high\":{\"0\":1.17568,\"1\":1.175605},\"low\":{\"0\":1.175605,\"1\":1.17553},\"close\":{\"0\":1.175605,\"1\":1.175605},\"ohlc4\":{\"0\":1.1756425,\"1\":1.1755675},\"volume\":{\"0\":2.0,\"1\":2.0},\"price\":{\"0\":\"ask\",\"1\":\"bid\"},\"complete\":{\"0\":false,\"1\":false}}\n"
     ]
    }
   ],
   "source": [
    "latest_candle = candles_generator.get_latest_candle()"
   ]
  },
  {
   "cell_type": "code",
   "execution_count": 22,
   "id": "9d182e44-5be6-427c-a266-2fc6a24d0dee",
   "metadata": {},
   "outputs": [
    {
     "data": {
      "text/html": [
       "<div>\n",
       "<style scoped>\n",
       "    .dataframe tbody tr th:only-of-type {\n",
       "        vertical-align: middle;\n",
       "    }\n",
       "\n",
       "    .dataframe tbody tr th {\n",
       "        vertical-align: top;\n",
       "    }\n",
       "\n",
       "    .dataframe thead th {\n",
       "        text-align: right;\n",
       "    }\n",
       "</style>\n",
       "<table border=\"1\" class=\"dataframe\">\n",
       "  <thead>\n",
       "    <tr style=\"text-align: right;\">\n",
       "      <th></th>\n",
       "      <th>close_time</th>\n",
       "      <th>open</th>\n",
       "      <th>high</th>\n",
       "      <th>low</th>\n",
       "      <th>close</th>\n",
       "      <th>ohlc4</th>\n",
       "      <th>volume</th>\n",
       "      <th>price</th>\n",
       "      <th>complete</th>\n",
       "    </tr>\n",
       "  </thead>\n",
       "  <tbody>\n",
       "    <tr>\n",
       "      <th>0</th>\n",
       "      <td>2021-08-09 02:00:00</td>\n",
       "      <td>1.17568</td>\n",
       "      <td>1.175680</td>\n",
       "      <td>1.175605</td>\n",
       "      <td>1.175605</td>\n",
       "      <td>1.175642</td>\n",
       "      <td>2.0</td>\n",
       "      <td>ask</td>\n",
       "      <td>False</td>\n",
       "    </tr>\n",
       "    <tr>\n",
       "      <th>1</th>\n",
       "      <td>2021-08-09 02:00:00</td>\n",
       "      <td>1.17553</td>\n",
       "      <td>1.175605</td>\n",
       "      <td>1.175530</td>\n",
       "      <td>1.175605</td>\n",
       "      <td>1.175568</td>\n",
       "      <td>2.0</td>\n",
       "      <td>bid</td>\n",
       "      <td>False</td>\n",
       "    </tr>\n",
       "  </tbody>\n",
       "</table>\n",
       "</div>"
      ],
      "text/plain": [
       "           close_time     open      high       low     close     ohlc4  \\\n",
       "0 2021-08-09 02:00:00  1.17568  1.175680  1.175605  1.175605  1.175642   \n",
       "1 2021-08-09 02:00:00  1.17553  1.175605  1.175530  1.175605  1.175568   \n",
       "\n",
       "   volume price  complete  \n",
       "0     2.0   ask     False  \n",
       "1     2.0   bid     False  "
      ]
     },
     "execution_count": 22,
     "metadata": {},
     "output_type": "execute_result"
    }
   ],
   "source": [
    "latest_candle['kline']"
   ]
  },
  {
   "cell_type": "code",
   "execution_count": 8,
   "id": "fd502be2-c9e3-41e1-acfb-953abf7c907b",
   "metadata": {},
   "outputs": [
    {
     "data": {
      "text/plain": [
       "0   2021-08-06 20:45:00+00:00\n",
       "Name: close_time, dtype: datetime64[ns, UTC]"
      ]
     },
     "execution_count": 8,
     "metadata": {},
     "output_type": "execute_result"
    }
   ],
   "source": [
    "latest_candle['kline'].query('price == \"ask\"').close_time"
   ]
  },
  {
   "cell_type": "code",
   "execution_count": 9,
   "id": "2f677479-e489-40eb-b597-cef9b661c1d1",
   "metadata": {},
   "outputs": [
    {
     "data": {
      "text/plain": [
       "0    4\n",
       "Name: close_time, dtype: int64"
      ]
     },
     "execution_count": 9,
     "metadata": {},
     "output_type": "execute_result"
    }
   ],
   "source": [
    "latest_candle['kline'].query('price == \"ask\"').close_time.dt.weekday"
   ]
  },
  {
   "cell_type": "code",
   "execution_count": 29,
   "id": "a2a608c9-996d-4258-9135-7d9ede2f2802",
   "metadata": {},
   "outputs": [
    {
     "name": "stdout",
     "output_type": "stream",
     "text": [
      "A\n"
     ]
    }
   ],
   "source": [
    "if -1:\n",
    "    print(\"A\")"
   ]
  },
  {
   "cell_type": "code",
   "execution_count": 33,
   "id": "6fa0a06c-9451-4770-8aad-d0e0b34a3fda",
   "metadata": {},
   "outputs": [
    {
     "name": "stdout",
     "output_type": "stream",
     "text": [
      "1628736300 1628737200\n"
     ]
    }
   ],
   "source": [
    "import datetime\n",
    "import calendar\n",
    "import re\n",
    "\n",
    "def granularity_to_time(s):\n",
    "    \"\"\"\n",
    "    get value in seconds for named granularities: M1, M5 ... H1 etc.\n",
    "    \"\"\"\n",
    "    mfact = {\n",
    "        'S': 1,\n",
    "        'M': 60,\n",
    "        'H': 3600,\n",
    "        'D': 86400,\n",
    "    }\n",
    "    try:\n",
    "        f, n = re.match(\"(?P<f>[SMHD])(?:(?P<n>\\d+)|)\", s).groups()\n",
    "        n = n if n else 1\n",
    "        return mfact[f] * int(n)\n",
    "    except AttributeError:\n",
    "        raise UnknownGranularity(s)\n",
    "\n",
    "        \n",
    "time = datetime.datetime.utcnow() \n",
    "dt = pd.to_datetime(time)\n",
    "epoch = int(calendar.timegm(dt.timetuple()))\n",
    "        \n",
    "frame_time = granularity_to_time(\"M15\")\n",
    "\n",
    "start = epoch - (epoch % frame_time)\n",
    "end = epoch - (epoch % frame_time) + frame_time\n",
    "print(start, end)"
   ]
  },
  {
   "cell_type": "code",
   "execution_count": 35,
   "id": "5f36f277-8cc0-4d55-8a54-f93f49fe8ae1",
   "metadata": {},
   "outputs": [
    {
     "data": {
      "text/plain": [
       "60.0"
      ]
     },
     "execution_count": 35,
     "metadata": {},
     "output_type": "execute_result"
    }
   ],
   "source": []
  },
  {
   "cell_type": "markdown",
   "id": "e16bed8c-68db-49b7-bb86-4b248357edae",
   "metadata": {},
   "source": [
    "# Manual Stuff"
   ]
  },
  {
   "cell_type": "code",
   "execution_count": 31,
   "id": "aca29b6a-aee5-4185-b2cb-6cbe99a7cc56",
   "metadata": {},
   "outputs": [],
   "source": [
    "PRACTICE = True\n",
    "\n",
    "ctx = API(\n",
    "    environment='practice' if PRACTICE else 'live',\n",
    "    access_token=DEMO_TOKEN if PRACTICE else TOKEN,\n",
    "    )"
   ]
  },
  {
   "cell_type": "code",
   "execution_count": 5,
   "id": "a27136b6-db7a-487f-95f1-be119cf8398f",
   "metadata": {},
   "outputs": [],
   "source": [
    "params = {\n",
    "    #'granularity': \"M30\",\n",
    "    'granularity': \"M15\",\n",
    "    'count': BATCH_SIZE,\n",
    "    'alignmentTimezone': \"UTC\",\n",
    "    'price': \"AB\"\n",
    "}\n",
    "\n",
    "candles_req = instruments.InstrumentsCandles(instrument=\"EUR_USD\", params=params)\n",
    "response = ctx.request(candles_req)\n",
    "# candles_req.response"
   ]
  },
  {
   "cell_type": "markdown",
   "id": "b47c68e2-0582-48af-b147-eb00a3bca027",
   "metadata": {},
   "source": [
    "Su Binance usi ask"
   ]
  },
  {
   "cell_type": "code",
   "execution_count": 6,
   "id": "bf1579ea-35b8-423f-a767-bf24b1f8e3f9",
   "metadata": {},
   "outputs": [
    {
     "data": {
      "text/html": [
       "<div>\n",
       "<style scoped>\n",
       "    .dataframe tbody tr th:only-of-type {\n",
       "        vertical-align: middle;\n",
       "    }\n",
       "\n",
       "    .dataframe tbody tr th {\n",
       "        vertical-align: top;\n",
       "    }\n",
       "\n",
       "    .dataframe thead th {\n",
       "        text-align: right;\n",
       "    }\n",
       "</style>\n",
       "<table border=\"1\" class=\"dataframe\">\n",
       "  <thead>\n",
       "    <tr style=\"text-align: right;\">\n",
       "      <th></th>\n",
       "      <th>close_time</th>\n",
       "      <th>open</th>\n",
       "      <th>high</th>\n",
       "      <th>low</th>\n",
       "      <th>close</th>\n",
       "      <th>ohlc4</th>\n",
       "      <th>volume</th>\n",
       "      <th>price</th>\n",
       "      <th>complete</th>\n",
       "    </tr>\n",
       "  </thead>\n",
       "  <tbody>\n",
       "    <tr>\n",
       "      <th>395</th>\n",
       "      <td>2021-08-02 01:00:00+00:00</td>\n",
       "      <td>1.18685</td>\n",
       "      <td>1.18692</td>\n",
       "      <td>1.18645</td>\n",
       "      <td>1.18681</td>\n",
       "      <td>1.186758</td>\n",
       "      <td>406.0</td>\n",
       "      <td>bid</td>\n",
       "      <td>True</td>\n",
       "    </tr>\n",
       "    <tr>\n",
       "      <th>396</th>\n",
       "      <td>2021-08-02 01:15:00+00:00</td>\n",
       "      <td>1.18695</td>\n",
       "      <td>1.18697</td>\n",
       "      <td>1.18669</td>\n",
       "      <td>1.18670</td>\n",
       "      <td>1.186828</td>\n",
       "      <td>271.0</td>\n",
       "      <td>ask</td>\n",
       "      <td>True</td>\n",
       "    </tr>\n",
       "    <tr>\n",
       "      <th>397</th>\n",
       "      <td>2021-08-02 01:15:00+00:00</td>\n",
       "      <td>1.18679</td>\n",
       "      <td>1.18683</td>\n",
       "      <td>1.18655</td>\n",
       "      <td>1.18657</td>\n",
       "      <td>1.186685</td>\n",
       "      <td>271.0</td>\n",
       "      <td>bid</td>\n",
       "      <td>True</td>\n",
       "    </tr>\n",
       "    <tr>\n",
       "      <th>398</th>\n",
       "      <td>2021-08-02 01:30:00+00:00</td>\n",
       "      <td>1.18669</td>\n",
       "      <td>1.18669</td>\n",
       "      <td>1.18630</td>\n",
       "      <td>1.18650</td>\n",
       "      <td>1.186545</td>\n",
       "      <td>447.0</td>\n",
       "      <td>ask</td>\n",
       "      <td>False</td>\n",
       "    </tr>\n",
       "    <tr>\n",
       "      <th>399</th>\n",
       "      <td>2021-08-02 01:30:00+00:00</td>\n",
       "      <td>1.18653</td>\n",
       "      <td>1.18653</td>\n",
       "      <td>1.18616</td>\n",
       "      <td>1.18637</td>\n",
       "      <td>1.186397</td>\n",
       "      <td>447.0</td>\n",
       "      <td>bid</td>\n",
       "      <td>False</td>\n",
       "    </tr>\n",
       "  </tbody>\n",
       "</table>\n",
       "</div>"
      ],
      "text/plain": [
       "                   close_time     open     high      low    close     ohlc4  \\\n",
       "395 2021-08-02 01:00:00+00:00  1.18685  1.18692  1.18645  1.18681  1.186758   \n",
       "396 2021-08-02 01:15:00+00:00  1.18695  1.18697  1.18669  1.18670  1.186828   \n",
       "397 2021-08-02 01:15:00+00:00  1.18679  1.18683  1.18655  1.18657  1.186685   \n",
       "398 2021-08-02 01:30:00+00:00  1.18669  1.18669  1.18630  1.18650  1.186545   \n",
       "399 2021-08-02 01:30:00+00:00  1.18653  1.18653  1.18616  1.18637  1.186397   \n",
       "\n",
       "     volume price  complete  \n",
       "395   406.0   bid      True  \n",
       "396   271.0   ask      True  \n",
       "397   271.0   bid      True  \n",
       "398   447.0   ask     False  \n",
       "399   447.0   bid     False  "
      ]
     },
     "execution_count": 6,
     "metadata": {},
     "output_type": "execute_result"
    }
   ],
   "source": [
    "klines_df = pd.DataFrame(sum([process_oanda_candle(candle) \n",
    "                              for candle in candles_req.response.get(\"candles\", 200)], []))\n",
    "klines_df.tail()"
   ]
  },
  {
   "cell_type": "code",
   "execution_count": 7,
   "id": "5cc1cbdc-7fa0-47f3-8dcf-c8126adb9011",
   "metadata": {},
   "outputs": [
    {
     "data": {
      "text/plain": [
       "False"
      ]
     },
     "execution_count": 7,
     "metadata": {},
     "output_type": "execute_result"
    }
   ],
   "source": [
    "klines_df.complete.all()"
   ]
  },
  {
   "cell_type": "code",
   "execution_count": 12,
   "id": "12bf6be3-86d8-4811-8ad1-f9f7a4d647a8",
   "metadata": {},
   "outputs": [
    {
     "name": "stdout",
     "output_type": "stream",
     "text": [
      "{'instrument': 'EUR_USD', 'granularity': 'M15', 'candles': [{'complete': True, 'volume': 332, 'time': '2021-08-06T20:30:00.000000000Z', 'bid': {'o': '1.17587', 'h': '1.17638', 'l': '1.17578', 'c': '1.17618'}, 'ask': {'o': '1.17602', 'h': '1.17655', 'l': '1.17592', 'c': '1.17634'}}, {'complete': True, 'volume': 312, 'time': '2021-08-06T20:45:00.000000000Z', 'bid': {'o': '1.17616', 'h': '1.17620', 'l': '1.17590', 'c': '1.17605'}, 'ask': {'o': '1.17632', 'h': '1.17638', 'l': '1.17613', 'c': '1.17626'}}]}\n"
     ]
    }
   ],
   "source": [
    "import oandapyV20\n",
    "import oandapyV20.endpoints.instruments as instruments\n",
    "client = oandapyV20.API(access_token=DEMO_TOKEN, environment='practice')\n",
    "params = {\n",
    "    #'granularity': \"M30\",\n",
    "    'granularity': \"M15\",\n",
    "    'count': 2,\n",
    "    'alignmentTimezone': \"UTC\",\n",
    "    'price': \"AB\"\n",
    "}\n",
    "\n",
    "r = instruments.InstrumentsCandles(instrument=\"EUR_USD\", params=params)\n",
    "client.request(r)\n",
    "print( r.response)\n"
   ]
  },
  {
   "cell_type": "markdown",
   "id": "a544fa8c-76e4-4312-b505-5fc6f306fbae",
   "metadata": {},
   "source": [
    "## Streaming Candles"
   ]
  },
  {
   "cell_type": "code",
   "execution_count": 26,
   "id": "9d1748ac-da72-4605-942e-ffbf741e1c11",
   "metadata": {},
   "outputs": [
    {
     "name": "stderr",
     "output_type": "stream",
     "text": [
      "INFO:imprint_trading_bot:processing mode: on_end\n"
     ]
    }
   ],
   "source": [
    "from generators.candlefactory import CandleFactory, StreamRecord\n",
    "from oandapyV20.endpoints.pricing import PricingStream\n",
    "\n",
    "candle_factory = CandleFactory(\n",
    "    instrument='EUR_USD', \n",
    "    granularity='M15', \n",
    "    processing_mode='on_end')\n",
    "\n",
    "\n",
    "pricing_stream = PricingStream(\n",
    "    accountID=oanda_demo_headers['id'],\n",
    "    params={\"instruments\": \"EUR_USD\", 'alignmentTimezone': \"UTC\"}\n",
    ")\n",
    "\n",
    "PRACTICE = True\n",
    "\n",
    "ctx = API(\n",
    "    environment='practice' if PRACTICE else 'live',\n",
    "    access_token=DEMO_TOKEN,\n",
    "    )"
   ]
  },
  {
   "cell_type": "code",
   "execution_count": null,
   "id": "b2ec1cc8-b265-4927-80ed-f3c119a480d0",
   "metadata": {},
   "outputs": [],
   "source": [
    "# from oandapyV20.exceptions import V20Error, StreamTerminated\n",
    "\n",
    "TICK = 1\n",
    "HEARTBEAT = 2\n",
    "\n",
    "while True:\n",
    "    for rv in ctx.request(pricing_stream):\n",
    "        s = StreamRecord(rv)\n",
    "        candle = candle_factory.process_tick(s)\n",
    "        if candle:\n",
    "            print(\"Candle completed: {}\".format(json.dumps(candle)))\n",
    "        if s.recordtype() == TICK:\n",
    "            print(s)\n"
   ]
  },
  {
   "cell_type": "markdown",
   "id": "b477c115-fc6e-4f13-9dcc-df2333dbfdd7",
   "metadata": {},
   "source": [
    "# Historical"
   ]
  },
  {
   "cell_type": "code",
   "execution_count": 36,
   "id": "c22532a3-7d14-43bf-a37e-7c152d71babe",
   "metadata": {},
   "outputs": [],
   "source": [
    "from oandapyV20.contrib.factories import InstrumentsCandlesFactory\n",
    "\n",
    "\n",
    "instrument = \"EUR_USD\"\n",
    "params = {\n",
    "    \"from\": \"2021-08-01T00:00:00Z\",\n",
    "    \"granularity\": \"M15\",\n",
    "    'alignmentTimezone': \"UTC\",\n",
    "    'price': \"AB\"\n",
    "}\n",
    "\n",
    "klines_df = pd.DataFrame()\n",
    "for r in InstrumentsCandlesFactory(instrument=instrument, params=params):\n",
    "    rv = ctx.request(r)\n",
    "    batch = r.response\n",
    "    # r.response\n",
    "    klines_df = klines_df.append(\n",
    "        pd.DataFrame(\n",
    "            sum([process_oanda_candle(candle) for candle in batch.get(\"candles\", 200)], [])))\n"
   ]
  },
  {
   "cell_type": "code",
   "execution_count": 37,
   "id": "84d12a77-72f5-42b0-ab72-bac83e10022d",
   "metadata": {},
   "outputs": [
    {
     "data": {
      "text/html": [
       "<div>\n",
       "<style scoped>\n",
       "    .dataframe tbody tr th:only-of-type {\n",
       "        vertical-align: middle;\n",
       "    }\n",
       "\n",
       "    .dataframe tbody tr th {\n",
       "        vertical-align: top;\n",
       "    }\n",
       "\n",
       "    .dataframe thead th {\n",
       "        text-align: right;\n",
       "    }\n",
       "</style>\n",
       "<table border=\"1\" class=\"dataframe\">\n",
       "  <thead>\n",
       "    <tr style=\"text-align: right;\">\n",
       "      <th></th>\n",
       "      <th>close_time</th>\n",
       "      <th>open</th>\n",
       "      <th>high</th>\n",
       "      <th>low</th>\n",
       "      <th>close</th>\n",
       "      <th>ohlc4</th>\n",
       "      <th>volume</th>\n",
       "      <th>price</th>\n",
       "      <th>complete</th>\n",
       "    </tr>\n",
       "  </thead>\n",
       "  <tbody>\n",
       "    <tr>\n",
       "      <th>0</th>\n",
       "      <td>2021-08-01 21:00:00+00:00</td>\n",
       "      <td>1.18673</td>\n",
       "      <td>1.18752</td>\n",
       "      <td>1.18673</td>\n",
       "      <td>1.18734</td>\n",
       "      <td>1.187080</td>\n",
       "      <td>14.0</td>\n",
       "      <td>ask</td>\n",
       "      <td>True</td>\n",
       "    </tr>\n",
       "    <tr>\n",
       "      <th>1</th>\n",
       "      <td>2021-08-01 21:00:00+00:00</td>\n",
       "      <td>1.18573</td>\n",
       "      <td>1.18652</td>\n",
       "      <td>1.18573</td>\n",
       "      <td>1.18634</td>\n",
       "      <td>1.186080</td>\n",
       "      <td>14.0</td>\n",
       "      <td>bid</td>\n",
       "      <td>True</td>\n",
       "    </tr>\n",
       "    <tr>\n",
       "      <th>2</th>\n",
       "      <td>2021-08-01 21:30:00+00:00</td>\n",
       "      <td>1.18720</td>\n",
       "      <td>1.18727</td>\n",
       "      <td>1.18699</td>\n",
       "      <td>1.18727</td>\n",
       "      <td>1.187183</td>\n",
       "      <td>12.0</td>\n",
       "      <td>ask</td>\n",
       "      <td>True</td>\n",
       "    </tr>\n",
       "    <tr>\n",
       "      <th>3</th>\n",
       "      <td>2021-08-01 21:30:00+00:00</td>\n",
       "      <td>1.18637</td>\n",
       "      <td>1.18639</td>\n",
       "      <td>1.18633</td>\n",
       "      <td>1.18639</td>\n",
       "      <td>1.186370</td>\n",
       "      <td>12.0</td>\n",
       "      <td>bid</td>\n",
       "      <td>True</td>\n",
       "    </tr>\n",
       "    <tr>\n",
       "      <th>4</th>\n",
       "      <td>2021-08-01 21:45:00+00:00</td>\n",
       "      <td>1.18718</td>\n",
       "      <td>1.18729</td>\n",
       "      <td>1.18689</td>\n",
       "      <td>1.18689</td>\n",
       "      <td>1.187062</td>\n",
       "      <td>21.0</td>\n",
       "      <td>ask</td>\n",
       "      <td>True</td>\n",
       "    </tr>\n",
       "    <tr>\n",
       "      <th>...</th>\n",
       "      <td>...</td>\n",
       "      <td>...</td>\n",
       "      <td>...</td>\n",
       "      <td>...</td>\n",
       "      <td>...</td>\n",
       "      <td>...</td>\n",
       "      <td>...</td>\n",
       "      <td>...</td>\n",
       "      <td>...</td>\n",
       "    </tr>\n",
       "    <tr>\n",
       "      <th>123</th>\n",
       "      <td>2021-08-06 20:15:00+00:00</td>\n",
       "      <td>1.17590</td>\n",
       "      <td>1.17611</td>\n",
       "      <td>1.17585</td>\n",
       "      <td>1.17587</td>\n",
       "      <td>1.175933</td>\n",
       "      <td>185.0</td>\n",
       "      <td>bid</td>\n",
       "      <td>True</td>\n",
       "    </tr>\n",
       "    <tr>\n",
       "      <th>124</th>\n",
       "      <td>2021-08-06 20:30:00+00:00</td>\n",
       "      <td>1.17602</td>\n",
       "      <td>1.17655</td>\n",
       "      <td>1.17592</td>\n",
       "      <td>1.17634</td>\n",
       "      <td>1.176208</td>\n",
       "      <td>332.0</td>\n",
       "      <td>ask</td>\n",
       "      <td>True</td>\n",
       "    </tr>\n",
       "    <tr>\n",
       "      <th>125</th>\n",
       "      <td>2021-08-06 20:30:00+00:00</td>\n",
       "      <td>1.17587</td>\n",
       "      <td>1.17638</td>\n",
       "      <td>1.17578</td>\n",
       "      <td>1.17618</td>\n",
       "      <td>1.176052</td>\n",
       "      <td>332.0</td>\n",
       "      <td>bid</td>\n",
       "      <td>True</td>\n",
       "    </tr>\n",
       "    <tr>\n",
       "      <th>126</th>\n",
       "      <td>2021-08-06 20:45:00+00:00</td>\n",
       "      <td>1.17632</td>\n",
       "      <td>1.17638</td>\n",
       "      <td>1.17613</td>\n",
       "      <td>1.17626</td>\n",
       "      <td>1.176273</td>\n",
       "      <td>312.0</td>\n",
       "      <td>ask</td>\n",
       "      <td>True</td>\n",
       "    </tr>\n",
       "    <tr>\n",
       "      <th>127</th>\n",
       "      <td>2021-08-06 20:45:00+00:00</td>\n",
       "      <td>1.17616</td>\n",
       "      <td>1.17620</td>\n",
       "      <td>1.17590</td>\n",
       "      <td>1.17605</td>\n",
       "      <td>1.176077</td>\n",
       "      <td>312.0</td>\n",
       "      <td>bid</td>\n",
       "      <td>True</td>\n",
       "    </tr>\n",
       "  </tbody>\n",
       "</table>\n",
       "<p>958 rows × 9 columns</p>\n",
       "</div>"
      ],
      "text/plain": [
       "                   close_time     open     high      low    close     ohlc4  \\\n",
       "0   2021-08-01 21:00:00+00:00  1.18673  1.18752  1.18673  1.18734  1.187080   \n",
       "1   2021-08-01 21:00:00+00:00  1.18573  1.18652  1.18573  1.18634  1.186080   \n",
       "2   2021-08-01 21:30:00+00:00  1.18720  1.18727  1.18699  1.18727  1.187183   \n",
       "3   2021-08-01 21:30:00+00:00  1.18637  1.18639  1.18633  1.18639  1.186370   \n",
       "4   2021-08-01 21:45:00+00:00  1.18718  1.18729  1.18689  1.18689  1.187062   \n",
       "..                        ...      ...      ...      ...      ...       ...   \n",
       "123 2021-08-06 20:15:00+00:00  1.17590  1.17611  1.17585  1.17587  1.175933   \n",
       "124 2021-08-06 20:30:00+00:00  1.17602  1.17655  1.17592  1.17634  1.176208   \n",
       "125 2021-08-06 20:30:00+00:00  1.17587  1.17638  1.17578  1.17618  1.176052   \n",
       "126 2021-08-06 20:45:00+00:00  1.17632  1.17638  1.17613  1.17626  1.176273   \n",
       "127 2021-08-06 20:45:00+00:00  1.17616  1.17620  1.17590  1.17605  1.176077   \n",
       "\n",
       "     volume price  complete  \n",
       "0      14.0   ask      True  \n",
       "1      14.0   bid      True  \n",
       "2      12.0   ask      True  \n",
       "3      12.0   bid      True  \n",
       "4      21.0   ask      True  \n",
       "..      ...   ...       ...  \n",
       "123   185.0   bid      True  \n",
       "124   332.0   ask      True  \n",
       "125   332.0   bid      True  \n",
       "126   312.0   ask      True  \n",
       "127   312.0   bid      True  \n",
       "\n",
       "[958 rows x 9 columns]"
      ]
     },
     "execution_count": 37,
     "metadata": {},
     "output_type": "execute_result"
    }
   ],
   "source": []
  },
  {
   "cell_type": "code",
   "execution_count": null,
   "id": "e2c8cba7-bdd4-4b12-9046-a237e0b0c888",
   "metadata": {},
   "outputs": [],
   "source": []
  }
 ],
 "metadata": {
  "kernelspec": {
   "display_name": "Python 3",
   "language": "python",
   "name": "python3"
  },
  "language_info": {
   "codemirror_mode": {
    "name": "ipython",
    "version": 3
   },
   "file_extension": ".py",
   "mimetype": "text/x-python",
   "name": "python",
   "nbconvert_exporter": "python",
   "pygments_lexer": "ipython3",
   "version": "3.8.8"
  }
 },
 "nbformat": 4,
 "nbformat_minor": 5
}
