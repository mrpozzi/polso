{
 "cells": [
  {
   "cell_type": "code",
   "execution_count": 10,
   "id": "7d034c15-5c85-44a8-8c81-fed2fa84e67c",
   "metadata": {},
   "outputs": [
    {
     "name": "stdout",
     "output_type": "stream",
     "text": [
      "The autoreload extension is already loaded. To reload it, use:\n",
      "  %reload_ext autoreload\n"
     ]
    }
   ],
   "source": [
    "%matplotlib inline\n",
    "%load_ext autoreload\n",
    "%autoreload 2\n",
    "\n",
    "import pandas as pd\n",
    "import numpy as np\n",
    "from datetime import datetime, timezone\n",
    "\n",
    "\n",
    "import matplotlib.pyplot as plt\n",
    "plt.style.use('fivethirtyeight')\n",
    "import json\n",
    "\n",
    "from binance.client import Client"
   ]
  },
  {
   "cell_type": "code",
   "execution_count": 11,
   "id": "3263863f-a9fb-4e9d-888d-6cfe58d74235",
   "metadata": {},
   "outputs": [],
   "source": [
    "martina_token = open(\"/Users/lucapozzi/martina_duck_bot_token.txt\").read()"
   ]
  },
  {
   "cell_type": "code",
   "execution_count": 3,
   "id": "897197ac-fe60-4e9e-9697-8d76e202d184",
   "metadata": {},
   "outputs": [],
   "source": [
    "x = 1\n",
    "if not x: \n",
    "    print(\"A\")"
   ]
  },
  {
   "cell_type": "code",
   "execution_count": 23,
   "id": "e5caf175-f331-4c3f-8fa1-d9e6a8a6ca79",
   "metadata": {},
   "outputs": [
    {
     "name": "stdout",
     "output_type": "stream",
     "text": [
      "{'ok': True, 'result': {'message_id': 15, 'from': {'id': 1743296983, 'is_bot': True, 'first_name': 'Martina', 'username': 'MartinaDuckBot'}, 'chat': {'id': -432581602, 'title': 'Trading Test Group', 'type': 'group', 'all_members_are_administrators': True}, 'date': 1625187528, 'text': 'Testing Telegram bot'}}\n"
     ]
    }
   ],
   "source": [
    "TOKEN = martina_token\n",
    "CHAT_ID = -432581602\n",
    "\n",
    "import requests\n",
    "\n",
    "def telegram_bot_sendtext(bot_message):\n",
    "    \n",
    "    bot_token = ''\n",
    "    bot_chatID = ''\n",
    "    send_text = \"https://api.telegram.org/bot{token}/sendMessage?chat_id={chat_id}&parse_mode=Markdown&text={bot_message}\".format(\n",
    "        token=TOKEN,\n",
    "        chat_id=CHAT_ID,\n",
    "        bot_message=bot_message,\n",
    "    )\n",
    "\n",
    "    response = requests.get(send_text)\n",
    "\n",
    "    return response.json()\n",
    "    \n",
    "\n",
    "test = telegram_bot_sendtext(\"Testing Telegram bot\")\n",
    "print(test)"
   ]
  },
  {
   "cell_type": "code",
   "execution_count": 15,
   "id": "3b132279-dfcd-4361-bc4a-290a4d6d254b",
   "metadata": {},
   "outputs": [],
   "source": [
    "from telegram.ext import Updater\n",
    "updater = Updater(token=martina_token, use_context=True)"
   ]
  },
  {
   "cell_type": "code",
   "execution_count": 16,
   "id": "d1e6a182-9a05-44de-a05a-c938ce811542",
   "metadata": {},
   "outputs": [],
   "source": [
    "dispatcher = updater.dispatcher\n"
   ]
  },
  {
   "cell_type": "code",
   "execution_count": 5,
   "id": "df1ac7de-cc54-4c3a-8957-2f8971e10469",
   "metadata": {},
   "outputs": [],
   "source": [
    "def send_message(update, context):\n",
    "    context.bot.send_message(chat_id=update.effective_chat.id, text=\"Hello World!\")"
   ]
  },
  {
   "cell_type": "code",
   "execution_count": 19,
   "id": "93142a07-5e0c-4ce2-b0cc-576e6ea4c31a",
   "metadata": {},
   "outputs": [],
   "source": [
    "from telegram.ext import CommandHandler\n",
    "message_handler = CommandHandler('message', send_message)\n",
    "dispatcher.add_handler(message_handler)"
   ]
  },
  {
   "cell_type": "code",
   "execution_count": 18,
   "id": "3d442ce7-7edd-45c4-9d0b-aa35dd247b0e",
   "metadata": {},
   "outputs": [
    {
     "data": {
      "text/plain": [
       "<queue.Queue at 0x11cc5b580>"
      ]
     },
     "execution_count": 18,
     "metadata": {},
     "output_type": "execute_result"
    }
   ],
   "source": [
    "updater.start_polling()\n"
   ]
  },
  {
   "cell_type": "code",
   "execution_count": 8,
   "id": "1cb64452-e467-453c-b093-1577f058320e",
   "metadata": {},
   "outputs": [],
   "source": [
    "def echo(update, context):\n",
    "    context.bot.send_message(chat_id=update.effective_chat.id, text=update.message.text)\n",
    "\n",
    "from telegram.ext import MessageHandler, Filters\n",
    "echo_handler = MessageHandler(Filters.text & (~Filters.command), echo)\n",
    "dispatcher.add_handler(echo_handler)"
   ]
  },
  {
   "cell_type": "code",
   "execution_count": 9,
   "id": "106b5e18-2d8b-486e-9578-b2eae067c67f",
   "metadata": {},
   "outputs": [],
   "source": [
    "updater.stop()\n"
   ]
  },
  {
   "cell_type": "code",
   "execution_count": null,
   "id": "e7239156-8fa5-411c-a35b-c9abfd9b70df",
   "metadata": {},
   "outputs": [],
   "source": []
  }
 ],
 "metadata": {
  "kernelspec": {
   "display_name": "Python 3",
   "language": "python",
   "name": "python3"
  },
  "language_info": {
   "codemirror_mode": {
    "name": "ipython",
    "version": 3
   },
   "file_extension": ".py",
   "mimetype": "text/x-python",
   "name": "python",
   "nbconvert_exporter": "python",
   "pygments_lexer": "ipython3",
   "version": "3.8.8"
  }
 },
 "nbformat": 4,
 "nbformat_minor": 5
}
